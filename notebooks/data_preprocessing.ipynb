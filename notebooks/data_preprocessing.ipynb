{
 "cells": [
  {
   "cell_type": "code",
   "execution_count": 5,
   "metadata": {
    "_cell_guid": "b1076dfc-b9ad-4769-8c92-a6c4dae69d19",
    "_uuid": "8f2839f25d086af736a60e9eeb907d3b93b6e0e5",
    "execution": {
     "iopub.execute_input": "2024-10-21T10:00:33.326411Z",
     "iopub.status.busy": "2024-10-21T10:00:33.325801Z",
     "iopub.status.idle": "2024-10-21T10:00:36.752091Z",
     "shell.execute_reply": "2024-10-21T10:00:36.750503Z",
     "shell.execute_reply.started": "2024-10-21T10:00:33.326355Z"
    },
    "trusted": true
   },
   "outputs": [],
   "source": [
    "import pandas as pd\n",
    "import numpy as np\n"
   ]
  },
  {
   "cell_type": "code",
   "execution_count": 6,
   "metadata": {
    "execution": {
     "iopub.execute_input": "2024-10-21T10:00:36.755488Z",
     "iopub.status.busy": "2024-10-21T10:00:36.754680Z",
     "iopub.status.idle": "2024-10-21T10:00:45.830531Z",
     "shell.execute_reply": "2024-10-21T10:00:45.828979Z",
     "shell.execute_reply.started": "2024-10-21T10:00:36.755427Z"
    },
    "trusted": true
   },
   "outputs": [
    {
     "name": "stderr",
     "output_type": "stream",
     "text": [
      "C:\\Users\\msi\\AppData\\Local\\Temp\\ipykernel_12092\\4150225176.py:1: DtypeWarning: Columns (9) have mixed types. Specify dtype option on import or set low_memory=False.\n",
      "  df = pd.read_csv('../data/SBAnational.csv')\n"
     ]
    },
    {
     "data": {
      "text/html": [
       "<div>\n",
       "<style scoped>\n",
       "    .dataframe tbody tr th:only-of-type {\n",
       "        vertical-align: middle;\n",
       "    }\n",
       "\n",
       "    .dataframe tbody tr th {\n",
       "        vertical-align: top;\n",
       "    }\n",
       "\n",
       "    .dataframe thead th {\n",
       "        text-align: right;\n",
       "    }\n",
       "</style>\n",
       "<table border=\"1\" class=\"dataframe\">\n",
       "  <thead>\n",
       "    <tr style=\"text-align: right;\">\n",
       "      <th></th>\n",
       "      <th>LoanNr_ChkDgt</th>\n",
       "      <th>Name</th>\n",
       "      <th>City</th>\n",
       "      <th>State</th>\n",
       "      <th>Zip</th>\n",
       "      <th>Bank</th>\n",
       "      <th>BankState</th>\n",
       "      <th>NAICS</th>\n",
       "      <th>ApprovalDate</th>\n",
       "      <th>ApprovalFY</th>\n",
       "      <th>...</th>\n",
       "      <th>RevLineCr</th>\n",
       "      <th>LowDoc</th>\n",
       "      <th>ChgOffDate</th>\n",
       "      <th>DisbursementDate</th>\n",
       "      <th>DisbursementGross</th>\n",
       "      <th>BalanceGross</th>\n",
       "      <th>MIS_Status</th>\n",
       "      <th>ChgOffPrinGr</th>\n",
       "      <th>GrAppv</th>\n",
       "      <th>SBA_Appv</th>\n",
       "    </tr>\n",
       "  </thead>\n",
       "  <tbody>\n",
       "    <tr>\n",
       "      <th>0</th>\n",
       "      <td>1000014003</td>\n",
       "      <td>ABC HOBBYCRAFT</td>\n",
       "      <td>EVANSVILLE</td>\n",
       "      <td>IN</td>\n",
       "      <td>47711</td>\n",
       "      <td>FIFTH THIRD BANK</td>\n",
       "      <td>OH</td>\n",
       "      <td>451120</td>\n",
       "      <td>28-Feb-97</td>\n",
       "      <td>1997</td>\n",
       "      <td>...</td>\n",
       "      <td>N</td>\n",
       "      <td>Y</td>\n",
       "      <td>NaN</td>\n",
       "      <td>28-Feb-99</td>\n",
       "      <td>$60,000.00</td>\n",
       "      <td>$0.00</td>\n",
       "      <td>P I F</td>\n",
       "      <td>$0.00</td>\n",
       "      <td>$60,000.00</td>\n",
       "      <td>$48,000.00</td>\n",
       "    </tr>\n",
       "    <tr>\n",
       "      <th>1</th>\n",
       "      <td>1000024006</td>\n",
       "      <td>LANDMARK BAR &amp; GRILLE (THE)</td>\n",
       "      <td>NEW PARIS</td>\n",
       "      <td>IN</td>\n",
       "      <td>46526</td>\n",
       "      <td>1ST SOURCE BANK</td>\n",
       "      <td>IN</td>\n",
       "      <td>722410</td>\n",
       "      <td>28-Feb-97</td>\n",
       "      <td>1997</td>\n",
       "      <td>...</td>\n",
       "      <td>N</td>\n",
       "      <td>Y</td>\n",
       "      <td>NaN</td>\n",
       "      <td>31-May-97</td>\n",
       "      <td>$40,000.00</td>\n",
       "      <td>$0.00</td>\n",
       "      <td>P I F</td>\n",
       "      <td>$0.00</td>\n",
       "      <td>$40,000.00</td>\n",
       "      <td>$32,000.00</td>\n",
       "    </tr>\n",
       "    <tr>\n",
       "      <th>2</th>\n",
       "      <td>1000034009</td>\n",
       "      <td>WHITLOCK DDS, TODD M.</td>\n",
       "      <td>BLOOMINGTON</td>\n",
       "      <td>IN</td>\n",
       "      <td>47401</td>\n",
       "      <td>GRANT COUNTY STATE BANK</td>\n",
       "      <td>IN</td>\n",
       "      <td>621210</td>\n",
       "      <td>28-Feb-97</td>\n",
       "      <td>1997</td>\n",
       "      <td>...</td>\n",
       "      <td>N</td>\n",
       "      <td>N</td>\n",
       "      <td>NaN</td>\n",
       "      <td>31-Dec-97</td>\n",
       "      <td>$287,000.00</td>\n",
       "      <td>$0.00</td>\n",
       "      <td>P I F</td>\n",
       "      <td>$0.00</td>\n",
       "      <td>$287,000.00</td>\n",
       "      <td>$215,250.00</td>\n",
       "    </tr>\n",
       "    <tr>\n",
       "      <th>3</th>\n",
       "      <td>1000044001</td>\n",
       "      <td>BIG BUCKS PAWN &amp; JEWELRY, LLC</td>\n",
       "      <td>BROKEN ARROW</td>\n",
       "      <td>OK</td>\n",
       "      <td>74012</td>\n",
       "      <td>1ST NATL BK &amp; TR CO OF BROKEN</td>\n",
       "      <td>OK</td>\n",
       "      <td>0</td>\n",
       "      <td>28-Feb-97</td>\n",
       "      <td>1997</td>\n",
       "      <td>...</td>\n",
       "      <td>N</td>\n",
       "      <td>Y</td>\n",
       "      <td>NaN</td>\n",
       "      <td>30-Jun-97</td>\n",
       "      <td>$35,000.00</td>\n",
       "      <td>$0.00</td>\n",
       "      <td>P I F</td>\n",
       "      <td>$0.00</td>\n",
       "      <td>$35,000.00</td>\n",
       "      <td>$28,000.00</td>\n",
       "    </tr>\n",
       "    <tr>\n",
       "      <th>4</th>\n",
       "      <td>1000054004</td>\n",
       "      <td>ANASTASIA CONFECTIONS, INC.</td>\n",
       "      <td>ORLANDO</td>\n",
       "      <td>FL</td>\n",
       "      <td>32801</td>\n",
       "      <td>FLORIDA BUS. DEVEL CORP</td>\n",
       "      <td>FL</td>\n",
       "      <td>0</td>\n",
       "      <td>28-Feb-97</td>\n",
       "      <td>1997</td>\n",
       "      <td>...</td>\n",
       "      <td>N</td>\n",
       "      <td>N</td>\n",
       "      <td>NaN</td>\n",
       "      <td>14-May-97</td>\n",
       "      <td>$229,000.00</td>\n",
       "      <td>$0.00</td>\n",
       "      <td>P I F</td>\n",
       "      <td>$0.00</td>\n",
       "      <td>$229,000.00</td>\n",
       "      <td>$229,000.00</td>\n",
       "    </tr>\n",
       "  </tbody>\n",
       "</table>\n",
       "<p>5 rows × 27 columns</p>\n",
       "</div>"
      ],
      "text/plain": [
       "   LoanNr_ChkDgt                           Name          City State    Zip  \\\n",
       "0     1000014003                 ABC HOBBYCRAFT    EVANSVILLE    IN  47711   \n",
       "1     1000024006    LANDMARK BAR & GRILLE (THE)     NEW PARIS    IN  46526   \n",
       "2     1000034009          WHITLOCK DDS, TODD M.   BLOOMINGTON    IN  47401   \n",
       "3     1000044001  BIG BUCKS PAWN & JEWELRY, LLC  BROKEN ARROW    OK  74012   \n",
       "4     1000054004    ANASTASIA CONFECTIONS, INC.       ORLANDO    FL  32801   \n",
       "\n",
       "                            Bank BankState   NAICS ApprovalDate ApprovalFY  \\\n",
       "0               FIFTH THIRD BANK        OH  451120    28-Feb-97       1997   \n",
       "1                1ST SOURCE BANK        IN  722410    28-Feb-97       1997   \n",
       "2        GRANT COUNTY STATE BANK        IN  621210    28-Feb-97       1997   \n",
       "3  1ST NATL BK & TR CO OF BROKEN        OK       0    28-Feb-97       1997   \n",
       "4        FLORIDA BUS. DEVEL CORP        FL       0    28-Feb-97       1997   \n",
       "\n",
       "   ...  RevLineCr  LowDoc  ChgOffDate  DisbursementDate  DisbursementGross  \\\n",
       "0  ...          N       Y         NaN         28-Feb-99        $60,000.00    \n",
       "1  ...          N       Y         NaN         31-May-97        $40,000.00    \n",
       "2  ...          N       N         NaN         31-Dec-97       $287,000.00    \n",
       "3  ...          N       Y         NaN         30-Jun-97        $35,000.00    \n",
       "4  ...          N       N         NaN         14-May-97       $229,000.00    \n",
       "\n",
       "   BalanceGross  MIS_Status ChgOffPrinGr        GrAppv      SBA_Appv  \n",
       "0        $0.00        P I F       $0.00    $60,000.00    $48,000.00   \n",
       "1        $0.00        P I F       $0.00    $40,000.00    $32,000.00   \n",
       "2        $0.00        P I F       $0.00   $287,000.00   $215,250.00   \n",
       "3        $0.00        P I F       $0.00    $35,000.00    $28,000.00   \n",
       "4        $0.00        P I F       $0.00   $229,000.00   $229,000.00   \n",
       "\n",
       "[5 rows x 27 columns]"
      ]
     },
     "execution_count": 6,
     "metadata": {},
     "output_type": "execute_result"
    }
   ],
   "source": [
    "df = pd.read_csv('../data/SBAnational.csv')\n",
    "df.head()"
   ]
  },
  {
   "cell_type": "code",
   "execution_count": 7,
   "metadata": {},
   "outputs": [
    {
     "data": {
      "text/plain": [
       "Index(['LoanNr_ChkDgt', 'Name', 'City', 'State', 'Zip', 'Bank', 'BankState',\n",
       "       'NAICS', 'ApprovalDate', 'ApprovalFY', 'Term', 'NoEmp', 'NewExist',\n",
       "       'CreateJob', 'RetainedJob', 'FranchiseCode', 'UrbanRural', 'RevLineCr',\n",
       "       'LowDoc', 'ChgOffDate', 'DisbursementDate', 'DisbursementGross',\n",
       "       'BalanceGross', 'MIS_Status', 'ChgOffPrinGr', 'GrAppv', 'SBA_Appv'],\n",
       "      dtype='object')"
      ]
     },
     "execution_count": 7,
     "metadata": {},
     "output_type": "execute_result"
    }
   ],
   "source": [
    "df.columns"
   ]
  },
  {
   "cell_type": "code",
   "execution_count": 8,
   "metadata": {},
   "outputs": [
    {
     "data": {
      "text/plain": [
       "(899164, 27)"
      ]
     },
     "execution_count": 8,
     "metadata": {},
     "output_type": "execute_result"
    }
   ],
   "source": [
    "df.shape"
   ]
  },
  {
   "cell_type": "code",
   "execution_count": 9,
   "metadata": {
    "execution": {
     "iopub.execute_input": "2024-10-21T10:00:46.190072Z",
     "iopub.status.busy": "2024-10-21T10:00:46.189540Z",
     "iopub.status.idle": "2024-10-21T10:00:47.801395Z",
     "shell.execute_reply": "2024-10-21T10:00:47.799980Z",
     "shell.execute_reply.started": "2024-10-21T10:00:46.190019Z"
    },
    "trusted": true
   },
   "outputs": [
    {
     "name": "stdout",
     "output_type": "stream",
     "text": [
      "<class 'pandas.core.frame.DataFrame'>\n",
      "RangeIndex: 899164 entries, 0 to 899163\n",
      "Data columns (total 27 columns):\n",
      " #   Column             Non-Null Count   Dtype  \n",
      "---  ------             --------------   -----  \n",
      " 0   LoanNr_ChkDgt      899164 non-null  int64  \n",
      " 1   Name               899150 non-null  object \n",
      " 2   City               899134 non-null  object \n",
      " 3   State              899150 non-null  object \n",
      " 4   Zip                899164 non-null  int64  \n",
      " 5   Bank               897605 non-null  object \n",
      " 6   BankState          897598 non-null  object \n",
      " 7   NAICS              899164 non-null  int64  \n",
      " 8   ApprovalDate       899164 non-null  object \n",
      " 9   ApprovalFY         899164 non-null  object \n",
      " 10  Term               899164 non-null  int64  \n",
      " 11  NoEmp              899164 non-null  int64  \n",
      " 12  NewExist           899028 non-null  float64\n",
      " 13  CreateJob          899164 non-null  int64  \n",
      " 14  RetainedJob        899164 non-null  int64  \n",
      " 15  FranchiseCode      899164 non-null  int64  \n",
      " 16  UrbanRural         899164 non-null  int64  \n",
      " 17  RevLineCr          894636 non-null  object \n",
      " 18  LowDoc             896582 non-null  object \n",
      " 19  ChgOffDate         162699 non-null  object \n",
      " 20  DisbursementDate   896796 non-null  object \n",
      " 21  DisbursementGross  899164 non-null  object \n",
      " 22  BalanceGross       899164 non-null  object \n",
      " 23  MIS_Status         897167 non-null  object \n",
      " 24  ChgOffPrinGr       899164 non-null  object \n",
      " 25  GrAppv             899164 non-null  object \n",
      " 26  SBA_Appv           899164 non-null  object \n",
      "dtypes: float64(1), int64(9), object(17)\n",
      "memory usage: 185.2+ MB\n"
     ]
    }
   ],
   "source": [
    "df.info()"
   ]
  },
  {
   "cell_type": "markdown",
   "metadata": {},
   "source": [
    "## Nan Values"
   ]
  },
  {
   "cell_type": "code",
   "execution_count": 10,
   "metadata": {
    "execution": {
     "iopub.execute_input": "2024-10-21T10:00:47.803554Z",
     "iopub.status.busy": "2024-10-21T10:00:47.803189Z",
     "iopub.status.idle": "2024-10-21T10:00:49.416907Z",
     "shell.execute_reply": "2024-10-21T10:00:49.415641Z",
     "shell.execute_reply.started": "2024-10-21T10:00:47.803515Z"
    },
    "trusted": true
   },
   "outputs": [
    {
     "data": {
      "text/plain": [
       "LoanNr_ChkDgt             0\n",
       "Name                     14\n",
       "City                     30\n",
       "State                    14\n",
       "Zip                       0\n",
       "Bank                   1559\n",
       "BankState              1566\n",
       "NAICS                     0\n",
       "ApprovalDate              0\n",
       "ApprovalFY                0\n",
       "Term                      0\n",
       "NoEmp                     0\n",
       "NewExist                136\n",
       "CreateJob                 0\n",
       "RetainedJob               0\n",
       "FranchiseCode             0\n",
       "UrbanRural                0\n",
       "RevLineCr              4528\n",
       "LowDoc                 2582\n",
       "ChgOffDate           736465\n",
       "DisbursementDate       2368\n",
       "DisbursementGross         0\n",
       "BalanceGross              0\n",
       "MIS_Status             1997\n",
       "ChgOffPrinGr              0\n",
       "GrAppv                    0\n",
       "SBA_Appv                  0\n",
       "dtype: int64"
      ]
     },
     "execution_count": 10,
     "metadata": {},
     "output_type": "execute_result"
    }
   ],
   "source": [
    "df.isna().sum()"
   ]
  },
  {
   "cell_type": "code",
   "execution_count": 11,
   "metadata": {
    "execution": {
     "iopub.execute_input": "2024-10-21T10:00:49.418808Z",
     "iopub.status.busy": "2024-10-21T10:00:49.418448Z",
     "iopub.status.idle": "2024-10-21T10:00:52.450640Z",
     "shell.execute_reply": "2024-10-21T10:00:52.449354Z",
     "shell.execute_reply.started": "2024-10-21T10:00:49.418769Z"
    },
    "trusted": true
   },
   "outputs": [
    {
     "data": {
      "text/plain": [
       "0"
      ]
     },
     "execution_count": 11,
     "metadata": {},
     "output_type": "execute_result"
    }
   ],
   "source": [
    "df.duplicated().sum()"
   ]
  },
  {
   "cell_type": "code",
   "execution_count": 12,
   "metadata": {
    "trusted": true
   },
   "outputs": [
    {
     "data": {
      "text/html": [
       "<div>\n",
       "<style scoped>\n",
       "    .dataframe tbody tr th:only-of-type {\n",
       "        vertical-align: middle;\n",
       "    }\n",
       "\n",
       "    .dataframe tbody tr th {\n",
       "        vertical-align: top;\n",
       "    }\n",
       "\n",
       "    .dataframe thead th {\n",
       "        text-align: right;\n",
       "    }\n",
       "</style>\n",
       "<table border=\"1\" class=\"dataframe\">\n",
       "  <thead>\n",
       "    <tr style=\"text-align: right;\">\n",
       "      <th></th>\n",
       "      <th>Name</th>\n",
       "      <th>City</th>\n",
       "      <th>State</th>\n",
       "      <th>Bank</th>\n",
       "      <th>BankState</th>\n",
       "      <th>ApprovalDate</th>\n",
       "      <th>ApprovalFY</th>\n",
       "      <th>RevLineCr</th>\n",
       "      <th>LowDoc</th>\n",
       "      <th>ChgOffDate</th>\n",
       "      <th>DisbursementDate</th>\n",
       "      <th>DisbursementGross</th>\n",
       "      <th>BalanceGross</th>\n",
       "      <th>MIS_Status</th>\n",
       "      <th>ChgOffPrinGr</th>\n",
       "      <th>GrAppv</th>\n",
       "      <th>SBA_Appv</th>\n",
       "    </tr>\n",
       "  </thead>\n",
       "  <tbody>\n",
       "    <tr>\n",
       "      <th>0</th>\n",
       "      <td>ABC HOBBYCRAFT</td>\n",
       "      <td>EVANSVILLE</td>\n",
       "      <td>IN</td>\n",
       "      <td>FIFTH THIRD BANK</td>\n",
       "      <td>OH</td>\n",
       "      <td>28-Feb-97</td>\n",
       "      <td>1997</td>\n",
       "      <td>N</td>\n",
       "      <td>Y</td>\n",
       "      <td>NaN</td>\n",
       "      <td>28-Feb-99</td>\n",
       "      <td>$60,000.00</td>\n",
       "      <td>$0.00</td>\n",
       "      <td>P I F</td>\n",
       "      <td>$0.00</td>\n",
       "      <td>$60,000.00</td>\n",
       "      <td>$48,000.00</td>\n",
       "    </tr>\n",
       "    <tr>\n",
       "      <th>1</th>\n",
       "      <td>LANDMARK BAR &amp; GRILLE (THE)</td>\n",
       "      <td>NEW PARIS</td>\n",
       "      <td>IN</td>\n",
       "      <td>1ST SOURCE BANK</td>\n",
       "      <td>IN</td>\n",
       "      <td>28-Feb-97</td>\n",
       "      <td>1997</td>\n",
       "      <td>N</td>\n",
       "      <td>Y</td>\n",
       "      <td>NaN</td>\n",
       "      <td>31-May-97</td>\n",
       "      <td>$40,000.00</td>\n",
       "      <td>$0.00</td>\n",
       "      <td>P I F</td>\n",
       "      <td>$0.00</td>\n",
       "      <td>$40,000.00</td>\n",
       "      <td>$32,000.00</td>\n",
       "    </tr>\n",
       "    <tr>\n",
       "      <th>2</th>\n",
       "      <td>WHITLOCK DDS, TODD M.</td>\n",
       "      <td>BLOOMINGTON</td>\n",
       "      <td>IN</td>\n",
       "      <td>GRANT COUNTY STATE BANK</td>\n",
       "      <td>IN</td>\n",
       "      <td>28-Feb-97</td>\n",
       "      <td>1997</td>\n",
       "      <td>N</td>\n",
       "      <td>N</td>\n",
       "      <td>NaN</td>\n",
       "      <td>31-Dec-97</td>\n",
       "      <td>$287,000.00</td>\n",
       "      <td>$0.00</td>\n",
       "      <td>P I F</td>\n",
       "      <td>$0.00</td>\n",
       "      <td>$287,000.00</td>\n",
       "      <td>$215,250.00</td>\n",
       "    </tr>\n",
       "    <tr>\n",
       "      <th>3</th>\n",
       "      <td>BIG BUCKS PAWN &amp; JEWELRY, LLC</td>\n",
       "      <td>BROKEN ARROW</td>\n",
       "      <td>OK</td>\n",
       "      <td>1ST NATL BK &amp; TR CO OF BROKEN</td>\n",
       "      <td>OK</td>\n",
       "      <td>28-Feb-97</td>\n",
       "      <td>1997</td>\n",
       "      <td>N</td>\n",
       "      <td>Y</td>\n",
       "      <td>NaN</td>\n",
       "      <td>30-Jun-97</td>\n",
       "      <td>$35,000.00</td>\n",
       "      <td>$0.00</td>\n",
       "      <td>P I F</td>\n",
       "      <td>$0.00</td>\n",
       "      <td>$35,000.00</td>\n",
       "      <td>$28,000.00</td>\n",
       "    </tr>\n",
       "    <tr>\n",
       "      <th>4</th>\n",
       "      <td>ANASTASIA CONFECTIONS, INC.</td>\n",
       "      <td>ORLANDO</td>\n",
       "      <td>FL</td>\n",
       "      <td>FLORIDA BUS. DEVEL CORP</td>\n",
       "      <td>FL</td>\n",
       "      <td>28-Feb-97</td>\n",
       "      <td>1997</td>\n",
       "      <td>N</td>\n",
       "      <td>N</td>\n",
       "      <td>NaN</td>\n",
       "      <td>14-May-97</td>\n",
       "      <td>$229,000.00</td>\n",
       "      <td>$0.00</td>\n",
       "      <td>P I F</td>\n",
       "      <td>$0.00</td>\n",
       "      <td>$229,000.00</td>\n",
       "      <td>$229,000.00</td>\n",
       "    </tr>\n",
       "    <tr>\n",
       "      <th>...</th>\n",
       "      <td>...</td>\n",
       "      <td>...</td>\n",
       "      <td>...</td>\n",
       "      <td>...</td>\n",
       "      <td>...</td>\n",
       "      <td>...</td>\n",
       "      <td>...</td>\n",
       "      <td>...</td>\n",
       "      <td>...</td>\n",
       "      <td>...</td>\n",
       "      <td>...</td>\n",
       "      <td>...</td>\n",
       "      <td>...</td>\n",
       "      <td>...</td>\n",
       "      <td>...</td>\n",
       "      <td>...</td>\n",
       "      <td>...</td>\n",
       "    </tr>\n",
       "    <tr>\n",
       "      <th>899159</th>\n",
       "      <td>FABRIC FARMS</td>\n",
       "      <td>UPPER ARLINGTON</td>\n",
       "      <td>OH</td>\n",
       "      <td>JPMORGAN CHASE BANK NATL ASSOC</td>\n",
       "      <td>IL</td>\n",
       "      <td>27-Feb-97</td>\n",
       "      <td>1997</td>\n",
       "      <td>0</td>\n",
       "      <td>N</td>\n",
       "      <td>NaN</td>\n",
       "      <td>30-Sep-97</td>\n",
       "      <td>$70,000.00</td>\n",
       "      <td>$0.00</td>\n",
       "      <td>P I F</td>\n",
       "      <td>$0.00</td>\n",
       "      <td>$70,000.00</td>\n",
       "      <td>$56,000.00</td>\n",
       "    </tr>\n",
       "    <tr>\n",
       "      <th>899160</th>\n",
       "      <td>FABRIC FARMS</td>\n",
       "      <td>COLUMBUS</td>\n",
       "      <td>OH</td>\n",
       "      <td>JPMORGAN CHASE BANK NATL ASSOC</td>\n",
       "      <td>IL</td>\n",
       "      <td>27-Feb-97</td>\n",
       "      <td>1997</td>\n",
       "      <td>Y</td>\n",
       "      <td>N</td>\n",
       "      <td>NaN</td>\n",
       "      <td>31-Oct-97</td>\n",
       "      <td>$85,000.00</td>\n",
       "      <td>$0.00</td>\n",
       "      <td>P I F</td>\n",
       "      <td>$0.00</td>\n",
       "      <td>$85,000.00</td>\n",
       "      <td>$42,500.00</td>\n",
       "    </tr>\n",
       "    <tr>\n",
       "      <th>899161</th>\n",
       "      <td>RADCO MANUFACTURING CO.,INC.</td>\n",
       "      <td>SANTA MARIA</td>\n",
       "      <td>CA</td>\n",
       "      <td>RABOBANK, NATIONAL ASSOCIATION</td>\n",
       "      <td>CA</td>\n",
       "      <td>27-Feb-97</td>\n",
       "      <td>1997</td>\n",
       "      <td>N</td>\n",
       "      <td>N</td>\n",
       "      <td>NaN</td>\n",
       "      <td>30-Sep-97</td>\n",
       "      <td>$300,000.00</td>\n",
       "      <td>$0.00</td>\n",
       "      <td>P I F</td>\n",
       "      <td>$0.00</td>\n",
       "      <td>$300,000.00</td>\n",
       "      <td>$225,000.00</td>\n",
       "    </tr>\n",
       "    <tr>\n",
       "      <th>899162</th>\n",
       "      <td>MARUTAMA HAWAII, INC.</td>\n",
       "      <td>HONOLULU</td>\n",
       "      <td>HI</td>\n",
       "      <td>BANK OF HAWAII</td>\n",
       "      <td>HI</td>\n",
       "      <td>27-Feb-97</td>\n",
       "      <td>1997</td>\n",
       "      <td>N</td>\n",
       "      <td>Y</td>\n",
       "      <td>8-Mar-00</td>\n",
       "      <td>31-Mar-97</td>\n",
       "      <td>$75,000.00</td>\n",
       "      <td>$0.00</td>\n",
       "      <td>CHGOFF</td>\n",
       "      <td>$46,383.00</td>\n",
       "      <td>$75,000.00</td>\n",
       "      <td>$60,000.00</td>\n",
       "    </tr>\n",
       "    <tr>\n",
       "      <th>899163</th>\n",
       "      <td>PACIFIC TRADEWINDS FAN &amp; LIGHT</td>\n",
       "      <td>KAILUA</td>\n",
       "      <td>HI</td>\n",
       "      <td>CENTRAL PACIFIC BANK</td>\n",
       "      <td>HI</td>\n",
       "      <td>27-Feb-97</td>\n",
       "      <td>1997</td>\n",
       "      <td>N</td>\n",
       "      <td>N</td>\n",
       "      <td>NaN</td>\n",
       "      <td>31-May-97</td>\n",
       "      <td>$30,000.00</td>\n",
       "      <td>$0.00</td>\n",
       "      <td>P I F</td>\n",
       "      <td>$0.00</td>\n",
       "      <td>$30,000.00</td>\n",
       "      <td>$24,000.00</td>\n",
       "    </tr>\n",
       "  </tbody>\n",
       "</table>\n",
       "<p>899164 rows × 17 columns</p>\n",
       "</div>"
      ],
      "text/plain": [
       "                                  Name             City State  \\\n",
       "0                       ABC HOBBYCRAFT       EVANSVILLE    IN   \n",
       "1          LANDMARK BAR & GRILLE (THE)        NEW PARIS    IN   \n",
       "2                WHITLOCK DDS, TODD M.      BLOOMINGTON    IN   \n",
       "3        BIG BUCKS PAWN & JEWELRY, LLC     BROKEN ARROW    OK   \n",
       "4          ANASTASIA CONFECTIONS, INC.          ORLANDO    FL   \n",
       "...                                ...              ...   ...   \n",
       "899159                    FABRIC FARMS  UPPER ARLINGTON    OH   \n",
       "899160                    FABRIC FARMS         COLUMBUS    OH   \n",
       "899161    RADCO MANUFACTURING CO.,INC.      SANTA MARIA    CA   \n",
       "899162           MARUTAMA HAWAII, INC.         HONOLULU    HI   \n",
       "899163  PACIFIC TRADEWINDS FAN & LIGHT           KAILUA    HI   \n",
       "\n",
       "                                  Bank BankState ApprovalDate ApprovalFY  \\\n",
       "0                     FIFTH THIRD BANK        OH    28-Feb-97       1997   \n",
       "1                      1ST SOURCE BANK        IN    28-Feb-97       1997   \n",
       "2              GRANT COUNTY STATE BANK        IN    28-Feb-97       1997   \n",
       "3        1ST NATL BK & TR CO OF BROKEN        OK    28-Feb-97       1997   \n",
       "4              FLORIDA BUS. DEVEL CORP        FL    28-Feb-97       1997   \n",
       "...                                ...       ...          ...        ...   \n",
       "899159  JPMORGAN CHASE BANK NATL ASSOC        IL    27-Feb-97       1997   \n",
       "899160  JPMORGAN CHASE BANK NATL ASSOC        IL    27-Feb-97       1997   \n",
       "899161  RABOBANK, NATIONAL ASSOCIATION        CA    27-Feb-97       1997   \n",
       "899162                  BANK OF HAWAII        HI    27-Feb-97       1997   \n",
       "899163            CENTRAL PACIFIC BANK        HI    27-Feb-97       1997   \n",
       "\n",
       "       RevLineCr LowDoc ChgOffDate DisbursementDate DisbursementGross  \\\n",
       "0              N      Y        NaN        28-Feb-99       $60,000.00    \n",
       "1              N      Y        NaN        31-May-97       $40,000.00    \n",
       "2              N      N        NaN        31-Dec-97      $287,000.00    \n",
       "3              N      Y        NaN        30-Jun-97       $35,000.00    \n",
       "4              N      N        NaN        14-May-97      $229,000.00    \n",
       "...          ...    ...        ...              ...               ...   \n",
       "899159         0      N        NaN        30-Sep-97       $70,000.00    \n",
       "899160         Y      N        NaN        31-Oct-97       $85,000.00    \n",
       "899161         N      N        NaN        30-Sep-97      $300,000.00    \n",
       "899162         N      Y   8-Mar-00        31-Mar-97       $75,000.00    \n",
       "899163         N      N        NaN        31-May-97       $30,000.00    \n",
       "\n",
       "       BalanceGross MIS_Status ChgOffPrinGr        GrAppv      SBA_Appv  \n",
       "0            $0.00       P I F       $0.00    $60,000.00    $48,000.00   \n",
       "1            $0.00       P I F       $0.00    $40,000.00    $32,000.00   \n",
       "2            $0.00       P I F       $0.00   $287,000.00   $215,250.00   \n",
       "3            $0.00       P I F       $0.00    $35,000.00    $28,000.00   \n",
       "4            $0.00       P I F       $0.00   $229,000.00   $229,000.00   \n",
       "...             ...        ...          ...           ...           ...  \n",
       "899159       $0.00       P I F       $0.00    $70,000.00    $56,000.00   \n",
       "899160       $0.00       P I F       $0.00    $85,000.00    $42,500.00   \n",
       "899161       $0.00       P I F       $0.00   $300,000.00   $225,000.00   \n",
       "899162       $0.00      CHGOFF  $46,383.00    $75,000.00    $60,000.00   \n",
       "899163       $0.00       P I F       $0.00    $30,000.00    $24,000.00   \n",
       "\n",
       "[899164 rows x 17 columns]"
      ]
     },
     "execution_count": 12,
     "metadata": {},
     "output_type": "execute_result"
    }
   ],
   "source": [
    "df.select_dtypes(include='object')\n"
   ]
  },
  {
   "cell_type": "markdown",
   "metadata": {},
   "source": [
    "### Convert string amounts into float values:"
   ]
  },
  {
   "cell_type": "code",
   "execution_count": 13,
   "metadata": {},
   "outputs": [],
   "source": [
    "def convert_money(x):\n",
    "    if isinstance(x, str):  # Check if x is a string\n",
    "        x = x[1:].replace(',', '')  # Remove the dollar sign and commas\n",
    "        return float(x)\n",
    "    elif isinstance(x, (int, float)):  # If already numeric, return as is\n",
    "        return float(x)\n",
    "    else:\n",
    "        return None  # Handle unexpected types gracefully\n"
   ]
  },
  {
   "cell_type": "code",
   "execution_count": 14,
   "metadata": {},
   "outputs": [
    {
     "name": "stderr",
     "output_type": "stream",
     "text": [
      "C:\\Users\\msi\\AppData\\Local\\Temp\\ipykernel_12092\\3631121737.py:1: FutureWarning: DataFrame.applymap has been deprecated. Use DataFrame.map instead.\n",
      "  df[['DisbursementGross', 'BalanceGross', 'ChgOffPrinGr', 'GrAppv', 'SBA_Appv']] = df[['DisbursementGross', 'BalanceGross', 'ChgOffPrinGr', 'GrAppv', 'SBA_Appv']].applymap(convert_money)\n"
     ]
    }
   ],
   "source": [
    "df[['DisbursementGross', 'BalanceGross', 'ChgOffPrinGr', 'GrAppv', 'SBA_Appv']] = df[['DisbursementGross', 'BalanceGross', 'ChgOffPrinGr', 'GrAppv', 'SBA_Appv']].applymap(convert_money)\n",
    "\n"
   ]
  },
  {
   "cell_type": "markdown",
   "metadata": {},
   "source": [
    "### Converting Year to int:"
   ]
  },
  {
   "cell_type": "code",
   "execution_count": 15,
   "metadata": {},
   "outputs": [],
   "source": [
    "# Create a function to apply formatting to the records of str type only\n",
    "def clean_year(x):\n",
    "    if isinstance(x, str):\n",
    "        return x.replace('A', '')\n",
    "    return x\n",
    "\n",
    "df['ApprovalFY'] = df['ApprovalFY'].apply(clean_year).astype('int64')"
   ]
  },
  {
   "cell_type": "code",
   "execution_count": 16,
   "metadata": {},
   "outputs": [
    {
     "data": {
      "text/plain": [
       "array([1997, 1980, 2006, 1998, 1999, 2000, 2001, 1972, 2003, 2004, 1978,\n",
       "       1979, 1981, 2005, 1962, 1982, 1965, 1966, 1983, 1973, 1984, 2007,\n",
       "       1985, 1986, 1987, 2008, 1988, 2009, 1989, 1991, 1990, 1974, 2010,\n",
       "       1967, 2011, 1992, 1993, 2002, 2012, 2013, 1994, 2014, 1975, 1977,\n",
       "       1976, 1968, 1969, 1995, 1970, 1996, 1971], dtype=int64)"
      ]
     },
     "execution_count": 16,
     "metadata": {},
     "output_type": "execute_result"
    }
   ],
   "source": [
    "df['ApprovalFY'].unique()"
   ]
  },
  {
   "cell_type": "markdown",
   "metadata": {},
   "source": [
    "### cleaning nan values"
   ]
  },
  {
   "cell_type": "code",
   "execution_count": 17,
   "metadata": {},
   "outputs": [
    {
     "data": {
      "text/plain": [
       "LoanNr_ChkDgt             0\n",
       "Name                      0\n",
       "City                      0\n",
       "State                     0\n",
       "Zip                       0\n",
       "Bank                      0\n",
       "BankState                 0\n",
       "NAICS                     0\n",
       "ApprovalDate              0\n",
       "ApprovalFY                0\n",
       "Term                      0\n",
       "NoEmp                     0\n",
       "NewExist                  0\n",
       "CreateJob                 0\n",
       "RetainedJob               0\n",
       "FranchiseCode             0\n",
       "UrbanRural                0\n",
       "RevLineCr                 0\n",
       "LowDoc                    0\n",
       "ChgOffDate           725369\n",
       "DisbursementDate          0\n",
       "DisbursementGross         0\n",
       "BalanceGross              0\n",
       "MIS_Status                0\n",
       "ChgOffPrinGr              0\n",
       "GrAppv                    0\n",
       "SBA_Appv                  0\n",
       "dtype: int64"
      ]
     },
     "execution_count": 17,
     "metadata": {},
     "output_type": "execute_result"
    }
   ],
   "source": [
    "df.dropna(subset=['Name', 'City', 'State', 'BankState', 'NewExist','RevLineCr', 'LowDoc', 'DisbursementDate', 'MIS_Status'], inplace=True)\n",
    "df.isnull().sum()"
   ]
  },
  {
   "cell_type": "code",
   "execution_count": 18,
   "metadata": {},
   "outputs": [
    {
     "data": {
      "text/plain": [
       "(886240, 27)"
      ]
     },
     "execution_count": 18,
     "metadata": {},
     "output_type": "execute_result"
    }
   ],
   "source": [
    "df.shape"
   ]
  },
  {
   "cell_type": "markdown",
   "metadata": {},
   "source": [
    "### Fixing the features dtypes:"
   ]
  },
  {
   "cell_type": "code",
   "execution_count": 19,
   "metadata": {},
   "outputs": [
    {
     "data": {
      "text/plain": [
       "LoanNr_ChkDgt          int64\n",
       "Name                  object\n",
       "City                  object\n",
       "State                 object\n",
       "Zip                   object\n",
       "Bank                  object\n",
       "BankState             object\n",
       "NAICS                  int64\n",
       "ApprovalDate          object\n",
       "ApprovalFY             int64\n",
       "Term                   int64\n",
       "NoEmp                  int64\n",
       "NewExist               int64\n",
       "CreateJob              int64\n",
       "RetainedJob            int64\n",
       "FranchiseCode          int64\n",
       "UrbanRural            object\n",
       "RevLineCr             object\n",
       "LowDoc                object\n",
       "ChgOffDate            object\n",
       "DisbursementDate      object\n",
       "DisbursementGross    float64\n",
       "BalanceGross         float64\n",
       "MIS_Status            object\n",
       "ChgOffPrinGr         float64\n",
       "GrAppv               float64\n",
       "SBA_Appv             float64\n",
       "dtype: object"
      ]
     },
     "execution_count": 19,
     "metadata": {},
     "output_type": "execute_result"
    }
   ],
   "source": [
    "# Change the type of NewExist to an integer, Zip and UrbanRural to str (categorical) and all currency-related fields to float values\n",
    "df = df.astype({'Zip': 'str', 'NewExist': 'int64', 'UrbanRural': 'str', 'DisbursementGross': 'float', 'BalanceGross': 'float',\n",
    "                          'ChgOffPrinGr': 'float', 'GrAppv': 'float', 'SBA_Appv': 'float'})\n",
    "\n",
    "# Check to see dtypes so far\n",
    "df.dtypes"
   ]
  },
  {
   "cell_type": "markdown",
   "metadata": {},
   "source": [
    "### Remplacing the NAICS code with its industry domain:"
   ]
  },
  {
   "cell_type": "code",
   "execution_count": 20,
   "metadata": {},
   "outputs": [
    {
     "data": {
      "text/plain": [
       "0         451120\n",
       "1         722410\n",
       "2         621210\n",
       "3              0\n",
       "4              0\n",
       "           ...  \n",
       "899159    451120\n",
       "899160    451130\n",
       "899161    332321\n",
       "899162         0\n",
       "899163         0\n",
       "Name: NAICS, Length: 886240, dtype: int64"
      ]
     },
     "execution_count": 20,
     "metadata": {},
     "output_type": "execute_result"
    }
   ],
   "source": [
    "df.NAICS"
   ]
  },
  {
   "cell_type": "code",
   "execution_count": 21,
   "metadata": {},
   "outputs": [],
   "source": [
    "# Create a new column with the industry the NAICS code represents\n",
    "# Selects only the first two numbers of the NAICS code\n",
    "df['Industry'] = df['NAICS'].astype('str').apply(lambda x: x[:2])\n",
    "\n",
    "# Maps the approprate industry to each record based on the first two digits of the NAICS code\n",
    "df['Industry'] = df['Industry'].map({\n",
    "    '0':'Unknown',\n",
    "    '11': 'Ag/For/Fish/Hunt',\n",
    "    '21': 'Min/Quar/Oil_Gas_ext',\n",
    "    '22': 'Utilities',\n",
    "    '23': 'Construction',\n",
    "    '31': 'Manufacturing',\n",
    "    '32': 'Manufacturing',\n",
    "    '33': 'Manufacturing',\n",
    "    '42': 'Wholesale_trade',\n",
    "    '44': 'Retail_trade',\n",
    "    '45': 'Retail_trade',\n",
    "    '48': 'Trans/Ware',\n",
    "    '49': 'Trans/Ware',\n",
    "    '51': 'Information',\n",
    "    '52': 'Finance/Insurance',\n",
    "    '53': 'RE/Rental/Lease',\n",
    "    '54': 'Prof/Science/Tech',\n",
    "    '55': 'Mgmt_comp',\n",
    "    '56': 'Admin_sup/Waste_Mgmt_Rem',\n",
    "    '61': 'Educational',\n",
    "    '62': 'Healthcare/Social_assist',\n",
    "    '71': 'Arts/Entertain/Rec',\n",
    "    '72': 'Accom/Food_serv',\n",
    "    '81': 'Other_no_pub',\n",
    "    '92': 'Public_Admin'\n",
    "})"
   ]
  },
  {
   "cell_type": "code",
   "execution_count": 22,
   "metadata": {},
   "outputs": [],
   "source": [
    "df.dropna(subset=['Industry'], inplace=True)"
   ]
  },
  {
   "cell_type": "markdown",
   "metadata": {},
   "source": [
    "### Encoding FranchiseCode into Standard Feature:"
   ]
  },
  {
   "cell_type": "code",
   "execution_count": 23,
   "metadata": {},
   "outputs": [
    {
     "data": {
      "text/plain": [
       "FranchiseCode\n",
       "1        631412\n",
       "0        203625\n",
       "78760      3342\n",
       "68020      1917\n",
       "50564      1023\n",
       "          ...  \n",
       "83876         1\n",
       "12545         1\n",
       "68170         1\n",
       "69145         1\n",
       "15930         1\n",
       "Name: count, Length: 2754, dtype: int64"
      ]
     },
     "execution_count": 23,
     "metadata": {},
     "output_type": "execute_result"
    }
   ],
   "source": [
    "df.FranchiseCode.value_counts()"
   ]
  },
  {
   "cell_type": "code",
   "execution_count": 24,
   "metadata": {},
   "outputs": [],
   "source": [
    "df.loc[(df['FranchiseCode'] <= 1), 'IsFranchise'] = 0\n",
    "df.loc[(df['FranchiseCode'] > 1), 'IsFranchise'] = 1\n",
    "df = df.astype({'IsFranchise': 'int64'})"
   ]
  },
  {
   "cell_type": "code",
   "execution_count": 25,
   "metadata": {},
   "outputs": [
    {
     "data": {
      "text/plain": [
       "array([2, 1, 0], dtype=int64)"
      ]
     },
     "execution_count": 25,
     "metadata": {},
     "output_type": "execute_result"
    }
   ],
   "source": [
    "df.NewExist.unique()"
   ]
  },
  {
   "cell_type": "code",
   "execution_count": 26,
   "metadata": {},
   "outputs": [],
   "source": [
    "# Keep records where NewExist == 1 or 2\n",
    "df = df[(df['NewExist'] == 1) | (df['NewExist'] == 2)]\n",
    "\n",
    "# Create NewBusiness field where 0 = Existing business and 1 = New business; based on NewExist field\n",
    "df.loc[(df['NewExist'] == 1), 'NewBusiness'] = 0\n",
    "df.loc[(df['NewExist'] == 2), 'NewBusiness'] = 1"
   ]
  },
  {
   "cell_type": "markdown",
   "metadata": {},
   "source": [
    "### Removing unaccepted values for RevLineCr and LowDoc features:"
   ]
  },
  {
   "cell_type": "code",
   "execution_count": 27,
   "metadata": {},
   "outputs": [
    {
     "data": {
      "text/plain": [
       "array(['N', '0', 'Y', 'T', '`', ',', '1', 'C', '3', '2', 'R', '7', 'A',\n",
       "       '5', '.', '4', '-', 'Q'], dtype=object)"
      ]
     },
     "execution_count": 27,
     "metadata": {},
     "output_type": "execute_result"
    }
   ],
   "source": [
    "df['RevLineCr'].unique()"
   ]
  },
  {
   "cell_type": "code",
   "execution_count": 28,
   "metadata": {},
   "outputs": [
    {
     "data": {
      "text/plain": [
       "array(['Y', 'N', 'C', '1', 'S', 'R', 'A', '0'], dtype=object)"
      ]
     },
     "execution_count": 28,
     "metadata": {},
     "output_type": "execute_result"
    }
   ],
   "source": [
    "df['LowDoc'].unique()"
   ]
  },
  {
   "cell_type": "code",
   "execution_count": 29,
   "metadata": {},
   "outputs": [
    {
     "name": "stdout",
     "output_type": "stream",
     "text": [
      "[0 1]\n",
      "[1 0]\n"
     ]
    }
   ],
   "source": [
    "df = df[(df['RevLineCr'] == 'Y') | (df['RevLineCr'] == 'N')]\n",
    "df = df[(df['LowDoc'] == 'Y') | (df['LowDoc'] == 'N')]\n",
    "\n",
    "# RevLineCr and LowDoc: 0 = No, 1 = Yes\n",
    "df['RevLineCr'] = np.where(df['RevLineCr'] == 'N', 0, 1)\n",
    "df['LowDoc'] = np.where(df['LowDoc'] == 'N', 0, 1)\n",
    "\n",
    "print(df['RevLineCr'].unique())\n",
    "print(df['LowDoc'].unique())"
   ]
  },
  {
   "cell_type": "markdown",
   "metadata": {},
   "source": [
    "### Make Default target field based on MIS_Status where P I F = 0 and CHGOFF = 1 so we can see what features are prevalant in a defaulted loan"
   ]
  },
  {
   "cell_type": "code",
   "execution_count": 30,
   "metadata": {},
   "outputs": [
    {
     "data": {
      "text/plain": [
       "Default\n",
       "0    499635\n",
       "1    110552\n",
       "Name: count, dtype: int64"
      ]
     },
     "execution_count": 30,
     "metadata": {},
     "output_type": "execute_result"
    }
   ],
   "source": [
    "df['Default'] = np.where(df['MIS_Status'] == 'P I F', 0, 1)\n",
    "df['Default'].value_counts()"
   ]
  },
  {
   "cell_type": "markdown",
   "metadata": {},
   "source": [
    "### Handling Date Features:"
   ]
  },
  {
   "cell_type": "code",
   "execution_count": 31,
   "metadata": {},
   "outputs": [
    {
     "name": "stderr",
     "output_type": "stream",
     "text": [
      "C:\\Users\\msi\\AppData\\Local\\Temp\\ipykernel_12092\\232153191.py:1: UserWarning: Could not infer format, so each element will be parsed individually, falling back to `dateutil`. To ensure parsing is consistent and as-expected, please specify a format.\n",
      "  df[['ApprovalDate', 'DisbursementDate']] = df[['ApprovalDate', 'DisbursementDate']].apply(pd.to_datetime)\n",
      "C:\\Users\\msi\\AppData\\Local\\Temp\\ipykernel_12092\\232153191.py:1: UserWarning: Could not infer format, so each element will be parsed individually, falling back to `dateutil`. To ensure parsing is consistent and as-expected, please specify a format.\n",
      "  df[['ApprovalDate', 'DisbursementDate']] = df[['ApprovalDate', 'DisbursementDate']].apply(pd.to_datetime)\n"
     ]
    }
   ],
   "source": [
    "df[['ApprovalDate', 'DisbursementDate']] = df[['ApprovalDate', 'DisbursementDate']].apply(pd.to_datetime)"
   ]
  },
  {
   "cell_type": "markdown",
   "metadata": {},
   "source": [
    "### Create DisbursementFY field for time selection criteria"
   ]
  },
  {
   "cell_type": "code",
   "execution_count": 32,
   "metadata": {},
   "outputs": [],
   "source": [
    "df['DisbursementFY'] = df['DisbursementDate'].map(lambda x: x.year)"
   ]
  },
  {
   "cell_type": "markdown",
   "metadata": {},
   "source": [
    "### Calculating number of days between DisbursementDate and ApprovalDate:"
   ]
  },
  {
   "cell_type": "code",
   "execution_count": 33,
   "metadata": {},
   "outputs": [],
   "source": [
    "df['DaysToDisbursement'] = df['DisbursementDate'] - df['ApprovalDate']\n",
    "df['DaysToDisbursement'] = df['DaysToDisbursement'].astype('str').apply(lambda x: x[:x.index('d') - 1]).astype('int64')\n"
   ]
  },
  {
   "cell_type": "markdown",
   "metadata": {},
   "source": [
    "### Create SBA_AppvPct field since the guaranteed amount is based on a percentage of the gross loan amount rather than dollar amount in most situations\n"
   ]
  },
  {
   "cell_type": "code",
   "execution_count": 34,
   "metadata": {},
   "outputs": [],
   "source": [
    "df['SBA_AppvPct'] = df['SBA_Appv'] / df['GrAppv']"
   ]
  },
  {
   "cell_type": "markdown",
   "metadata": {},
   "source": [
    "### Create AppvDisbursed flag field signifying if the loan amount disbursed was equal to the full amount approved"
   ]
  },
  {
   "cell_type": "code",
   "execution_count": 35,
   "metadata": {},
   "outputs": [],
   "source": [
    "df['AppvDisbursed'] = np.where(df['DisbursementGross'] == df['GrAppv'], 1, 0)"
   ]
  },
  {
   "cell_type": "code",
   "execution_count": 36,
   "metadata": {},
   "outputs": [
    {
     "data": {
      "text/plain": [
       "LoanNr_ChkDgt                  int64\n",
       "Name                          object\n",
       "City                          object\n",
       "State                         object\n",
       "Zip                           object\n",
       "Bank                          object\n",
       "BankState                     object\n",
       "NAICS                          int64\n",
       "ApprovalDate          datetime64[ns]\n",
       "ApprovalFY                     int64\n",
       "Term                           int64\n",
       "NoEmp                          int64\n",
       "NewExist                       int64\n",
       "CreateJob                      int64\n",
       "RetainedJob                    int64\n",
       "FranchiseCode                  int64\n",
       "UrbanRural                    object\n",
       "RevLineCr                      int32\n",
       "LowDoc                         int32\n",
       "ChgOffDate                    object\n",
       "DisbursementDate      datetime64[ns]\n",
       "DisbursementGross            float64\n",
       "BalanceGross                 float64\n",
       "MIS_Status                    object\n",
       "ChgOffPrinGr                 float64\n",
       "GrAppv                       float64\n",
       "SBA_Appv                     float64\n",
       "Industry                      object\n",
       "IsFranchise                    int64\n",
       "NewBusiness                  float64\n",
       "Default                        int32\n",
       "DisbursementFY                 int64\n",
       "DaysToDisbursement             int64\n",
       "SBA_AppvPct                  float64\n",
       "AppvDisbursed                  int32\n",
       "dtype: object"
      ]
     },
     "execution_count": 36,
     "metadata": {},
     "output_type": "execute_result"
    }
   ],
   "source": [
    "df.dtypes"
   ]
  },
  {
   "cell_type": "code",
   "execution_count": 37,
   "metadata": {},
   "outputs": [
    {
     "data": {
      "text/plain": [
       "LoanNr_ChkDgt                  int64\n",
       "Name                          object\n",
       "City                          object\n",
       "State                         object\n",
       "Zip                           object\n",
       "Bank                          object\n",
       "BankState                     object\n",
       "NAICS                          int64\n",
       "ApprovalDate          datetime64[ns]\n",
       "ApprovalFY                     int64\n",
       "Term                           int64\n",
       "NoEmp                          int64\n",
       "NewExist                       int64\n",
       "CreateJob                      int64\n",
       "RetainedJob                    int64\n",
       "FranchiseCode                  int64\n",
       "UrbanRural                    object\n",
       "RevLineCr                      int32\n",
       "LowDoc                         int32\n",
       "ChgOffDate                    object\n",
       "DisbursementDate      datetime64[ns]\n",
       "DisbursementGross            float64\n",
       "BalanceGross                 float64\n",
       "MIS_Status                    object\n",
       "ChgOffPrinGr                 float64\n",
       "GrAppv                       float64\n",
       "SBA_Appv                     float64\n",
       "Industry                      object\n",
       "IsFranchise                    int64\n",
       "NewBusiness                    int64\n",
       "Default                        int32\n",
       "DisbursementFY                 int64\n",
       "DaysToDisbursement             int64\n",
       "SBA_AppvPct                  float64\n",
       "AppvDisbursed                  int32\n",
       "dtype: object"
      ]
     },
     "execution_count": 37,
     "metadata": {},
     "output_type": "execute_result"
    }
   ],
   "source": [
    "df = df.astype({'IsFranchise': 'int64', 'NewBusiness': 'int64'})\n",
    "df.dtypes"
   ]
  },
  {
   "cell_type": "markdown",
   "metadata": {},
   "source": [
    "Now that each field we care about appears to have the correct data type, we can remove the fields that won't provide much value to the analysis. These are as follows:\n",
    "* LoanNr_ChkDgt and Name - provides no value to the actual analysis\n",
    "* City and Zip - each have a large number of unique values, is doesn't have any particularly significant values \n",
    "* Bank - Name of the bank shouldn't matter for analysis, however this could potentially be used when revisiting this analysis to determine the asset size of the bank servicing the loan\n",
    "* ChgOffDate - only applies when a loan is charged off and isn't relevant to the analysis\n",
    "* NAICS - replaced by Industry\n",
    "* NewExist - replaced by NewBusiness flag field\n",
    "* FranchiseCode - replaced by IsFranchise flag field\n",
    "* ApprovalDate and DisbursementDate - hypothesis that DaysToDisbursement will be more valueable\n",
    "* SBA_Appv - guaranteed amount is based on percentage of gross loan amount, not dollar amount typically\n",
    "* MIS_Status - Default field replaces this as the target field"
   ]
  },
  {
   "cell_type": "code",
   "execution_count": 38,
   "metadata": {},
   "outputs": [],
   "source": [
    "df.drop(columns=['LoanNr_ChkDgt', 'Name', 'City', 'Zip', 'Bank', 'NAICS', 'ApprovalDate', 'NewExist', 'FranchiseCode',\n",
    "                      'ChgOffDate', 'DisbursementDate', 'BalanceGross', 'ChgOffPrinGr', 'SBA_Appv', 'MIS_Status','CreateJob','RetainedJob'], inplace=True)"
   ]
  },
  {
   "cell_type": "markdown",
   "metadata": {},
   "source": [
    "### Verify all null values are removed from data\n"
   ]
  },
  {
   "cell_type": "code",
   "execution_count": 39,
   "metadata": {},
   "outputs": [
    {
     "data": {
      "text/plain": [
       "State                 0\n",
       "BankState             0\n",
       "ApprovalFY            0\n",
       "Term                  0\n",
       "NoEmp                 0\n",
       "UrbanRural            0\n",
       "RevLineCr             0\n",
       "LowDoc                0\n",
       "DisbursementGross     0\n",
       "GrAppv                0\n",
       "Industry              0\n",
       "IsFranchise           0\n",
       "NewBusiness           0\n",
       "Default               0\n",
       "DisbursementFY        0\n",
       "DaysToDisbursement    0\n",
       "SBA_AppvPct           0\n",
       "AppvDisbursed         0\n",
       "dtype: int64"
      ]
     },
     "execution_count": 39,
     "metadata": {},
     "output_type": "execute_result"
    }
   ],
   "source": [
    "df.isnull().sum()"
   ]
  },
  {
   "cell_type": "code",
   "execution_count": 40,
   "metadata": {},
   "outputs": [
    {
     "data": {
      "text/plain": [
       "(610187, 18)"
      ]
     },
     "execution_count": 40,
     "metadata": {},
     "output_type": "execute_result"
    }
   ],
   "source": [
    "df.shape"
   ]
  },
  {
   "cell_type": "code",
   "execution_count": 41,
   "metadata": {},
   "outputs": [],
   "source": [
    "# Field for loans backed by Real Estate (loans with a term of at least 20 years)\n",
    "df['RealEstate'] = np.where(df['Term'] >= 240, 1, 0)\n",
    "\n",
    "# Field for loans active during the Great Recession (2007-2009)\n",
    "df['GreatRecession'] = np.where(((2007 <= df['DisbursementFY']) & (df['DisbursementFY'] <= 2009)) | \n",
    "                                     ((df['DisbursementFY'] < 2007) & (df['DisbursementFY'] + (df['Term']/12) >= 2007)), 1, 0)"
   ]
  },
  {
   "cell_type": "code",
   "execution_count": null,
   "metadata": {},
   "outputs": [],
   "source": []
  },
  {
   "cell_type": "code",
   "execution_count": 43,
   "metadata": {},
   "outputs": [],
   "source": [
    "# Select only records with a disbursement year through 2010\n",
    "df.to_csv('../data/loan_data.csv')"
   ]
  },
  {
   "cell_type": "code",
   "execution_count": null,
   "metadata": {},
   "outputs": [],
   "source": []
  }
 ],
 "metadata": {
  "kaggle": {
   "accelerator": "none",
   "dataSources": [
    {
     "datasetId": 558648,
     "sourceId": 1018837,
     "sourceType": "datasetVersion"
    }
   ],
   "dockerImageVersionId": 30786,
   "isGpuEnabled": false,
   "isInternetEnabled": true,
   "language": "python",
   "sourceType": "notebook"
  },
  "kernelspec": {
   "display_name": "mlops",
   "language": "python",
   "name": "python3"
  },
  "language_info": {
   "codemirror_mode": {
    "name": "ipython",
    "version": 3
   },
   "file_extension": ".py",
   "mimetype": "text/x-python",
   "name": "python",
   "nbconvert_exporter": "python",
   "pygments_lexer": "ipython3",
   "version": "3.10.15"
  }
 },
 "nbformat": 4,
 "nbformat_minor": 4
}
