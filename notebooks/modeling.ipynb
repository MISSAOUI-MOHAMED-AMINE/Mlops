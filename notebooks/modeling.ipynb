{
 "cells": [
  {
   "cell_type": "markdown",
   "metadata": {},
   "source": [
    "# Modeling"
   ]
  },
  {
   "cell_type": "code",
   "execution_count": 3,
   "metadata": {},
   "outputs": [],
   "source": [
    "import pandas as pd\n",
    "import numpy as np\n",
    "import matplotlib.pyplot as plt\n",
    "import seaborn as sns\n",
    "from sklearn.model_selection import train_test_split\n",
    "from sklearn.metrics import confusion_matrix, classification_report\n",
    "from sklearn.preprocessing import StandardScaler\n",
    "from sklearn.pipeline import Pipeline\n",
    "from sklearn.feature_selection import SelectKBest\n",
    "from sklearn.linear_model import SGDRegressor\n",
    "from sklearn.ensemble import RandomForestClassifier\n",
    "from sklearn.linear_model import LogisticRegression\n",
    "from xgboost import XGBClassifier\n",
    "import mlflow\n",
    "from sklearn.metrics import precision_recall_fscore_support as score\n",
    "from imblearn.over_sampling import SMOTE\n"
   ]
  },
  {
   "cell_type": "code",
   "execution_count": 28,
   "metadata": {},
   "outputs": [],
   "source": [
    "mlflow.set_tracking_uri(\"file:///C:/Users/msi/Desktop/mlops/mlruns\")\n",
    "mlflow.set_experiment(\"loan_approval_prediction\")\n",
    "mlflow.sklearn.autolog(disable=True)\n"
   ]
  },
  {
   "cell_type": "code",
   "execution_count": 4,
   "metadata": {},
   "outputs": [
    {
     "data": {
      "text/html": [
       "<div>\n",
       "<style scoped>\n",
       "    .dataframe tbody tr th:only-of-type {\n",
       "        vertical-align: middle;\n",
       "    }\n",
       "\n",
       "    .dataframe tbody tr th {\n",
       "        vertical-align: top;\n",
       "    }\n",
       "\n",
       "    .dataframe thead th {\n",
       "        text-align: right;\n",
       "    }\n",
       "</style>\n",
       "<table border=\"1\" class=\"dataframe\">\n",
       "  <thead>\n",
       "    <tr style=\"text-align: right;\">\n",
       "      <th></th>\n",
       "      <th>State</th>\n",
       "      <th>BankState</th>\n",
       "      <th>ApprovalFY</th>\n",
       "      <th>Term</th>\n",
       "      <th>NoEmp</th>\n",
       "      <th>UrbanRural</th>\n",
       "      <th>RevLineCr</th>\n",
       "      <th>LowDoc</th>\n",
       "      <th>DisbursementGross</th>\n",
       "      <th>GrAppv</th>\n",
       "      <th>Industry</th>\n",
       "      <th>IsFranchise</th>\n",
       "      <th>NewBusiness</th>\n",
       "      <th>Default</th>\n",
       "      <th>DisbursementFY</th>\n",
       "      <th>DaysToDisbursement</th>\n",
       "      <th>SBA_AppvPct</th>\n",
       "      <th>AppvDisbursed</th>\n",
       "      <th>RealEstate</th>\n",
       "      <th>GreatRecession</th>\n",
       "    </tr>\n",
       "  </thead>\n",
       "  <tbody>\n",
       "    <tr>\n",
       "      <th>0</th>\n",
       "      <td>IN</td>\n",
       "      <td>OH</td>\n",
       "      <td>1997</td>\n",
       "      <td>84</td>\n",
       "      <td>4</td>\n",
       "      <td>0</td>\n",
       "      <td>0</td>\n",
       "      <td>1</td>\n",
       "      <td>60000.0</td>\n",
       "      <td>60000.0</td>\n",
       "      <td>Retail_trade</td>\n",
       "      <td>0</td>\n",
       "      <td>1</td>\n",
       "      <td>0</td>\n",
       "      <td>1999</td>\n",
       "      <td>730</td>\n",
       "      <td>0.80</td>\n",
       "      <td>1</td>\n",
       "      <td>0</td>\n",
       "      <td>0</td>\n",
       "    </tr>\n",
       "    <tr>\n",
       "      <th>1</th>\n",
       "      <td>IN</td>\n",
       "      <td>IN</td>\n",
       "      <td>1997</td>\n",
       "      <td>60</td>\n",
       "      <td>2</td>\n",
       "      <td>0</td>\n",
       "      <td>0</td>\n",
       "      <td>1</td>\n",
       "      <td>40000.0</td>\n",
       "      <td>40000.0</td>\n",
       "      <td>Accom/Food_serv</td>\n",
       "      <td>0</td>\n",
       "      <td>1</td>\n",
       "      <td>0</td>\n",
       "      <td>1997</td>\n",
       "      <td>92</td>\n",
       "      <td>0.80</td>\n",
       "      <td>1</td>\n",
       "      <td>0</td>\n",
       "      <td>0</td>\n",
       "    </tr>\n",
       "    <tr>\n",
       "      <th>2</th>\n",
       "      <td>IN</td>\n",
       "      <td>IN</td>\n",
       "      <td>1997</td>\n",
       "      <td>180</td>\n",
       "      <td>7</td>\n",
       "      <td>0</td>\n",
       "      <td>0</td>\n",
       "      <td>0</td>\n",
       "      <td>287000.0</td>\n",
       "      <td>287000.0</td>\n",
       "      <td>Healthcare/Social_assist</td>\n",
       "      <td>0</td>\n",
       "      <td>0</td>\n",
       "      <td>0</td>\n",
       "      <td>1997</td>\n",
       "      <td>306</td>\n",
       "      <td>0.75</td>\n",
       "      <td>1</td>\n",
       "      <td>0</td>\n",
       "      <td>1</td>\n",
       "    </tr>\n",
       "    <tr>\n",
       "      <th>3</th>\n",
       "      <td>OK</td>\n",
       "      <td>OK</td>\n",
       "      <td>1997</td>\n",
       "      <td>60</td>\n",
       "      <td>2</td>\n",
       "      <td>0</td>\n",
       "      <td>0</td>\n",
       "      <td>1</td>\n",
       "      <td>35000.0</td>\n",
       "      <td>35000.0</td>\n",
       "      <td>Unknown</td>\n",
       "      <td>0</td>\n",
       "      <td>0</td>\n",
       "      <td>0</td>\n",
       "      <td>1997</td>\n",
       "      <td>122</td>\n",
       "      <td>0.80</td>\n",
       "      <td>1</td>\n",
       "      <td>0</td>\n",
       "      <td>0</td>\n",
       "    </tr>\n",
       "    <tr>\n",
       "      <th>4</th>\n",
       "      <td>FL</td>\n",
       "      <td>FL</td>\n",
       "      <td>1997</td>\n",
       "      <td>240</td>\n",
       "      <td>14</td>\n",
       "      <td>0</td>\n",
       "      <td>0</td>\n",
       "      <td>0</td>\n",
       "      <td>229000.0</td>\n",
       "      <td>229000.0</td>\n",
       "      <td>Unknown</td>\n",
       "      <td>0</td>\n",
       "      <td>0</td>\n",
       "      <td>0</td>\n",
       "      <td>1997</td>\n",
       "      <td>75</td>\n",
       "      <td>1.00</td>\n",
       "      <td>1</td>\n",
       "      <td>1</td>\n",
       "      <td>1</td>\n",
       "    </tr>\n",
       "    <tr>\n",
       "      <th>...</th>\n",
       "      <td>...</td>\n",
       "      <td>...</td>\n",
       "      <td>...</td>\n",
       "      <td>...</td>\n",
       "      <td>...</td>\n",
       "      <td>...</td>\n",
       "      <td>...</td>\n",
       "      <td>...</td>\n",
       "      <td>...</td>\n",
       "      <td>...</td>\n",
       "      <td>...</td>\n",
       "      <td>...</td>\n",
       "      <td>...</td>\n",
       "      <td>...</td>\n",
       "      <td>...</td>\n",
       "      <td>...</td>\n",
       "      <td>...</td>\n",
       "      <td>...</td>\n",
       "      <td>...</td>\n",
       "      <td>...</td>\n",
       "    </tr>\n",
       "    <tr>\n",
       "      <th>590496</th>\n",
       "      <td>TX</td>\n",
       "      <td>DC</td>\n",
       "      <td>1997</td>\n",
       "      <td>84</td>\n",
       "      <td>5</td>\n",
       "      <td>0</td>\n",
       "      <td>0</td>\n",
       "      <td>1</td>\n",
       "      <td>79000.0</td>\n",
       "      <td>79000.0</td>\n",
       "      <td>Unknown</td>\n",
       "      <td>0</td>\n",
       "      <td>1</td>\n",
       "      <td>0</td>\n",
       "      <td>1997</td>\n",
       "      <td>123</td>\n",
       "      <td>0.80</td>\n",
       "      <td>1</td>\n",
       "      <td>0</td>\n",
       "      <td>0</td>\n",
       "    </tr>\n",
       "    <tr>\n",
       "      <th>590497</th>\n",
       "      <td>OH</td>\n",
       "      <td>IL</td>\n",
       "      <td>1997</td>\n",
       "      <td>60</td>\n",
       "      <td>6</td>\n",
       "      <td>0</td>\n",
       "      <td>1</td>\n",
       "      <td>0</td>\n",
       "      <td>85000.0</td>\n",
       "      <td>85000.0</td>\n",
       "      <td>Retail_trade</td>\n",
       "      <td>0</td>\n",
       "      <td>0</td>\n",
       "      <td>0</td>\n",
       "      <td>1997</td>\n",
       "      <td>246</td>\n",
       "      <td>0.50</td>\n",
       "      <td>1</td>\n",
       "      <td>0</td>\n",
       "      <td>0</td>\n",
       "    </tr>\n",
       "    <tr>\n",
       "      <th>590498</th>\n",
       "      <td>CA</td>\n",
       "      <td>CA</td>\n",
       "      <td>1997</td>\n",
       "      <td>108</td>\n",
       "      <td>26</td>\n",
       "      <td>0</td>\n",
       "      <td>0</td>\n",
       "      <td>0</td>\n",
       "      <td>300000.0</td>\n",
       "      <td>300000.0</td>\n",
       "      <td>Manufacturing</td>\n",
       "      <td>0</td>\n",
       "      <td>0</td>\n",
       "      <td>0</td>\n",
       "      <td>1997</td>\n",
       "      <td>215</td>\n",
       "      <td>0.75</td>\n",
       "      <td>1</td>\n",
       "      <td>0</td>\n",
       "      <td>0</td>\n",
       "    </tr>\n",
       "    <tr>\n",
       "      <th>590499</th>\n",
       "      <td>HI</td>\n",
       "      <td>HI</td>\n",
       "      <td>1997</td>\n",
       "      <td>60</td>\n",
       "      <td>6</td>\n",
       "      <td>0</td>\n",
       "      <td>0</td>\n",
       "      <td>1</td>\n",
       "      <td>75000.0</td>\n",
       "      <td>75000.0</td>\n",
       "      <td>Unknown</td>\n",
       "      <td>0</td>\n",
       "      <td>0</td>\n",
       "      <td>1</td>\n",
       "      <td>1997</td>\n",
       "      <td>32</td>\n",
       "      <td>0.80</td>\n",
       "      <td>1</td>\n",
       "      <td>0</td>\n",
       "      <td>0</td>\n",
       "    </tr>\n",
       "    <tr>\n",
       "      <th>590500</th>\n",
       "      <td>HI</td>\n",
       "      <td>HI</td>\n",
       "      <td>1997</td>\n",
       "      <td>48</td>\n",
       "      <td>1</td>\n",
       "      <td>0</td>\n",
       "      <td>0</td>\n",
       "      <td>0</td>\n",
       "      <td>30000.0</td>\n",
       "      <td>30000.0</td>\n",
       "      <td>Unknown</td>\n",
       "      <td>0</td>\n",
       "      <td>1</td>\n",
       "      <td>0</td>\n",
       "      <td>1997</td>\n",
       "      <td>93</td>\n",
       "      <td>0.80</td>\n",
       "      <td>1</td>\n",
       "      <td>0</td>\n",
       "      <td>0</td>\n",
       "    </tr>\n",
       "  </tbody>\n",
       "</table>\n",
       "<p>590501 rows × 20 columns</p>\n",
       "</div>"
      ],
      "text/plain": [
       "       State BankState  ApprovalFY  Term  NoEmp  UrbanRural  RevLineCr  \\\n",
       "0         IN        OH        1997    84      4           0          0   \n",
       "1         IN        IN        1997    60      2           0          0   \n",
       "2         IN        IN        1997   180      7           0          0   \n",
       "3         OK        OK        1997    60      2           0          0   \n",
       "4         FL        FL        1997   240     14           0          0   \n",
       "...      ...       ...         ...   ...    ...         ...        ...   \n",
       "590496    TX        DC        1997    84      5           0          0   \n",
       "590497    OH        IL        1997    60      6           0          1   \n",
       "590498    CA        CA        1997   108     26           0          0   \n",
       "590499    HI        HI        1997    60      6           0          0   \n",
       "590500    HI        HI        1997    48      1           0          0   \n",
       "\n",
       "        LowDoc  DisbursementGross    GrAppv                  Industry  \\\n",
       "0            1            60000.0   60000.0              Retail_trade   \n",
       "1            1            40000.0   40000.0           Accom/Food_serv   \n",
       "2            0           287000.0  287000.0  Healthcare/Social_assist   \n",
       "3            1            35000.0   35000.0                   Unknown   \n",
       "4            0           229000.0  229000.0                   Unknown   \n",
       "...        ...                ...       ...                       ...   \n",
       "590496       1            79000.0   79000.0                   Unknown   \n",
       "590497       0            85000.0   85000.0              Retail_trade   \n",
       "590498       0           300000.0  300000.0             Manufacturing   \n",
       "590499       1            75000.0   75000.0                   Unknown   \n",
       "590500       0            30000.0   30000.0                   Unknown   \n",
       "\n",
       "        IsFranchise  NewBusiness  Default  DisbursementFY  DaysToDisbursement  \\\n",
       "0                 0            1        0            1999                 730   \n",
       "1                 0            1        0            1997                  92   \n",
       "2                 0            0        0            1997                 306   \n",
       "3                 0            0        0            1997                 122   \n",
       "4                 0            0        0            1997                  75   \n",
       "...             ...          ...      ...             ...                 ...   \n",
       "590496            0            1        0            1997                 123   \n",
       "590497            0            0        0            1997                 246   \n",
       "590498            0            0        0            1997                 215   \n",
       "590499            0            0        1            1997                  32   \n",
       "590500            0            1        0            1997                  93   \n",
       "\n",
       "        SBA_AppvPct  AppvDisbursed  RealEstate  GreatRecession  \n",
       "0              0.80              1           0               0  \n",
       "1              0.80              1           0               0  \n",
       "2              0.75              1           0               1  \n",
       "3              0.80              1           0               0  \n",
       "4              1.00              1           1               1  \n",
       "...             ...            ...         ...             ...  \n",
       "590496         0.80              1           0               0  \n",
       "590497         0.50              1           0               0  \n",
       "590498         0.75              1           0               0  \n",
       "590499         0.80              1           0               0  \n",
       "590500         0.80              1           0               0  \n",
       "\n",
       "[590501 rows x 20 columns]"
      ]
     },
     "execution_count": 4,
     "metadata": {},
     "output_type": "execute_result"
    }
   ],
   "source": [
    "df = pd.read_csv(\"../data/loan_data_1.csv\")\n",
    "df.drop(columns='Unnamed: 0',inplace=True)\n",
    "df"
   ]
  },
  {
   "cell_type": "code",
   "execution_count": 30,
   "metadata": {},
   "outputs": [],
   "source": [
    "import json\n",
    "from sklearn.preprocessing import LabelEncoder\n",
    "\n",
    "encoder = LabelEncoder()\n",
    "\n",
    "# Dictionary to store mappings for all categorical columns\n",
    "mappings = {}\n",
    "\n",
    "# Loop through object (categorical) columns\n",
    "for column in df.select_dtypes(include='object').columns:\n",
    "    # Encode the column\n",
    "    df[column] = encoder.fit_transform(df[column])\n",
    "    \n",
    "    # Create the mapping from category to index\n",
    "    category_to_index = {category: index for index, category in enumerate(encoder.classes_)}\n",
    "    \n",
    "    # Store the mapping in the dictionary\n",
    "    mappings[column] = category_to_index\n",
    "\n",
    "# Save the dictionary to a JSON file\n",
    "with open(\"../backend/src/store.json\", \"w\") as file:\n",
    "    json.dump(mappings, file, indent=4)\n"
   ]
  },
  {
   "cell_type": "code",
   "execution_count": 5,
   "metadata": {},
   "outputs": [
    {
     "data": {
      "text/plain": [
       "Index(['State', 'BankState', 'ApprovalFY', 'Term', 'NoEmp', 'UrbanRural',\n",
       "       'RevLineCr', 'LowDoc', 'DisbursementGross', 'GrAppv', 'Industry',\n",
       "       'IsFranchise', 'NewBusiness', 'Default', 'DisbursementFY',\n",
       "       'DaysToDisbursement', 'SBA_AppvPct', 'AppvDisbursed', 'RealEstate',\n",
       "       'GreatRecession'],\n",
       "      dtype='object')"
      ]
     },
     "execution_count": 5,
     "metadata": {},
     "output_type": "execute_result"
    }
   ],
   "source": [
    "df.columns"
   ]
  },
  {
   "cell_type": "markdown",
   "metadata": {},
   "source": [
    "### Establish target and feature fields\n"
   ]
  },
  {
   "cell_type": "code",
   "execution_count": 32,
   "metadata": {},
   "outputs": [],
   "source": [
    "y = df['Default']\n",
    "X = df.drop('Default', axis=1)"
   ]
  },
  {
   "cell_type": "markdown",
   "metadata": {},
   "source": [
    "### Scale the feature values prior to modeling\n"
   ]
  },
  {
   "cell_type": "code",
   "execution_count": 33,
   "metadata": {},
   "outputs": [],
   "source": [
    "scale = StandardScaler()\n",
    "X_scaled = scale.fit_transform(X)\n",
    "\n",
    "X_train, X_val, y_train, y_val = train_test_split(X_scaled, y, test_size=0.25)"
   ]
  },
  {
   "cell_type": "code",
   "execution_count": 34,
   "metadata": {},
   "outputs": [
    {
     "data": {
      "text/plain": [
       "(590501, 19)"
      ]
     },
     "execution_count": 34,
     "metadata": {},
     "output_type": "execute_result"
    }
   ],
   "source": [
    "X_scaled.shape"
   ]
  },
  {
   "cell_type": "code",
   "execution_count": 35,
   "metadata": {},
   "outputs": [],
   "source": [
    "method= SMOTE()\n",
    "X_resampled, y_resampled = method.fit_resample(X_train, y_train)"
   ]
  },
  {
   "cell_type": "markdown",
   "metadata": {},
   "source": [
    "# LogisticRegression:"
   ]
  },
  {
   "cell_type": "code",
   "execution_count": 36,
   "metadata": {},
   "outputs": [
    {
     "name": "stdout",
     "output_type": "stream",
     "text": [
      "              precision    recall  f1-score   support\n",
      "\n",
      "           0      0.874     0.961     0.915    120243\n",
      "           1      0.696     0.390     0.500     27383\n",
      "\n",
      "    accuracy                          0.855    147626\n",
      "   macro avg      0.785     0.676     0.708    147626\n",
      "weighted avg      0.841     0.855     0.838    147626\n",
      "\n"
     ]
    }
   ],
   "source": [
    "# Initialize model\n",
    "log_reg = LogisticRegression(random_state=2)\n",
    "\n",
    "# Train the model and make predictions\n",
    "log_reg.fit(X_train, y_train)\n",
    "y_logpred = log_reg.predict(X_val)\n",
    "\n",
    "# Print the results\n",
    "print(classification_report(y_val, y_logpred, digits=3))"
   ]
  },
  {
   "cell_type": "code",
   "execution_count": 37,
   "metadata": {},
   "outputs": [
    {
     "name": "stderr",
     "output_type": "stream",
     "text": [
      "2024/11/29 19:41:26 WARNING mlflow.models.model: Model logged without a signature and input example. Please set `input_example` parameter when logging the model to auto infer the model signature.\n"
     ]
    }
   ],
   "source": [
    "\n",
    "with mlflow.start_run(run_name='LogisticRegression'):\n",
    "    mlflow.log_param(\"data_version\",1)\n",
    "    mlflow.log_param(\"input_rows\",df.shape[0])\n",
    "    mlflow.log_param(\"input_cols\",df.shape[1])\n",
    "    #model fitting and training\n",
    "    lr=LogisticRegression()\n",
    "    mlflow.set_tag(key= \"model\",value=\"LogisticRegression\")\n",
    "    params = lr.get_params()\n",
    "    mlflow.log_params(params)\n",
    "    lr.fit(X_train,y_train)\n",
    "    train_features_name = f'{X_train=}'.split('=')[0]\n",
    "    train_label_name = f'{y_train=}'.split('=')[0]\n",
    "    mlflow.set_tag(key=\"train_features_name\",value= train_features_name)\n",
    "    mlflow.set_tag(key= \"train_label_name\",value=train_label_name)\n",
    "    predicted=lr.predict(X_val)\n",
    "    precision,recall,fscore,support=score(y_val,predicted,average='macro')\n",
    "    mlflow.log_metric(\"Precision_test\",precision)\n",
    "    mlflow.log_metric(\"Recall_test\",recall)\n",
    "    mlflow.log_metric(\"F1_score_test\",fscore)\n",
    "    mlflow.sklearn.log_model(lr,artifact_path=\"ML_models\")\n"
   ]
  },
  {
   "cell_type": "markdown",
   "metadata": {},
   "source": [
    "# XGBoost:"
   ]
  },
  {
   "cell_type": "code",
   "execution_count": 39,
   "metadata": {},
   "outputs": [
    {
     "name": "stdout",
     "output_type": "stream",
     "text": [
      "              precision    recall  f1-score   support\n",
      "\n",
      "           0      0.969     0.980     0.975    120243\n",
      "           1      0.907     0.863     0.885     27383\n",
      "\n",
      "    accuracy                          0.958    147626\n",
      "   macro avg      0.938     0.922     0.930    147626\n",
      "weighted avg      0.958     0.958     0.958    147626\n",
      "\n"
     ]
    }
   ],
   "source": [
    "xgboost = XGBClassifier(random_state=2)\n",
    "\n",
    "xgboost.fit(X_train, y_train)\n",
    "y_xgbpred = xgboost.predict(X_val)\n",
    "\n",
    "# Print the results\n",
    "print(classification_report(y_val, y_xgbpred, digits=3))"
   ]
  },
  {
   "cell_type": "code",
   "execution_count": 40,
   "metadata": {},
   "outputs": [
    {
     "name": "stderr",
     "output_type": "stream",
     "text": [
      "c:\\Users\\msi\\anaconda3\\envs\\mlops\\lib\\site-packages\\xgboost\\core.py:158: UserWarning: [19:42:47] WARNING: C:\\buildkite-agent\\builds\\buildkite-windows-cpu-autoscaling-group-i-0c55ff5f71b100e98-1\\xgboost\\xgboost-ci-windows\\src\\c_api\\c_api.cc:1374: Saving model in the UBJSON format as default.  You can use file extension: `json`, `ubj` or `deprecated` to choose between formats.\n",
      "  warnings.warn(smsg, UserWarning)\n",
      "2024/11/29 19:42:51 WARNING mlflow.models.model: Model logged without a signature and input example. Please set `input_example` parameter when logging the model to auto infer the model signature.\n"
     ]
    }
   ],
   "source": [
    "\n",
    "with mlflow.start_run(run_name='XGBoost'):\n",
    "    mlflow.log_param(\"data_version\",1)\n",
    "    mlflow.log_param(\"input_rows\",df.shape[0])\n",
    "    mlflow.log_param(\"input_cols\",df.shape[1])\n",
    "    xg = XGBClassifier()\n",
    "    params = xg.get_params()\n",
    "    mlflow.set_tag(key= \"model\", value=\"XGBClassifier\")\n",
    "    mlflow.log_params(params)\n",
    "    xg.fit(X_train,y_train)\n",
    "    train_features_name = f'{X_train=}'.split('=')[0]\n",
    "    train_label_name = f'{y_train=}'.split('=')[0]\n",
    "    mlflow.set_tag(key=\"train_features_name\",value= train_features_name)\n",
    "    mlflow.set_tag(key= \"train_label_name\",value=train_label_name)\n",
    "    predicted=xg.predict(X_val)\n",
    "    precision,recall,fscore,support=score(y_val,predicted,average='macro')\n",
    "    mlflow.log_metric(\"Precision_test\",precision)\n",
    "    mlflow.log_metric(\"Recall_test\",recall)\n",
    "    mlflow.log_metric(\"F1_score_test\",fscore)\n",
    "    mlflow.xgboost.log_model(xg,artifact_path=\"ML_models\")\n"
   ]
  },
  {
   "cell_type": "markdown",
   "metadata": {},
   "source": [
    "### List the importance of each feature"
   ]
  },
  {
   "cell_type": "code",
   "execution_count": 41,
   "metadata": {},
   "outputs": [
    {
     "name": "stdout",
     "output_type": "stream",
     "text": [
      "ApprovalFY = 0.20596862\n",
      "AppvDisbursed = 0.03901559\n",
      "BankState = 0.029654756\n",
      "DaysToDisbursement = 0.01547745\n",
      "DisbursementFY = 0.03427445\n",
      "DisbursementGross = 0.011691744\n",
      "GrAppv = 0.032201372\n",
      "GreatRecession = 0.010401577\n",
      "Industry = 0.008969399\n",
      "IsFranchise = 0.006186307\n",
      "LowDoc = 0.018806655\n",
      "NewBusiness = 0.02222905\n",
      "NoEmp = 0.008265215\n",
      "RealEstate = 0.0\n",
      "RevLineCr = 0.054240208\n",
      "SBA_AppvPct = 0.104090095\n",
      "State = 0.021454057\n",
      "Term = 0.3345423\n",
      "UrbanRural = 0.042531196\n"
     ]
    }
   ],
   "source": [
    "\n",
    "for name, importance in sorted(zip(X.columns, xgboost.feature_importances_)):\n",
    "    print(name, \"=\", importance)"
   ]
  },
  {
   "cell_type": "markdown",
   "metadata": {},
   "source": [
    "### Build pipeling for feature selection and modeling; SelectKBest defaults to top 10 features\n"
   ]
  },
  {
   "cell_type": "code",
   "execution_count": 42,
   "metadata": {},
   "outputs": [
    {
     "name": "stdout",
     "output_type": "stream",
     "text": [
      "              precision    recall  f1-score   support\n",
      "\n",
      "           0      0.964     0.976     0.970    120243\n",
      "           1      0.888     0.842     0.864     27383\n",
      "\n",
      "    accuracy                          0.951    147626\n",
      "   macro avg      0.926     0.909     0.917    147626\n",
      "weighted avg      0.950     0.951     0.951    147626\n",
      "\n"
     ]
    }
   ],
   "source": [
    "xgb_featimp = XGBClassifier(random_state=2)\n",
    "\n",
    "pipe = Pipeline(steps=[\n",
    "    ('feature_selection', SelectKBest()),\n",
    "    ('model', xgb_featimp)\n",
    "])\n",
    "\n",
    "pipe.fit(X_train, y_train)\n",
    "y_featimppred = pipe.predict(X_val)\n",
    "\n",
    "print(classification_report(y_val, y_featimppred, digits=3))"
   ]
  },
  {
   "cell_type": "code",
   "execution_count": 44,
   "metadata": {},
   "outputs": [
    {
     "name": "stderr",
     "output_type": "stream",
     "text": [
      "c:\\Users\\msi\\anaconda3\\envs\\mlops\\lib\\site-packages\\xgboost\\core.py:158: UserWarning: [19:46:21] WARNING: C:\\buildkite-agent\\builds\\buildkite-windows-cpu-autoscaling-group-i-0c55ff5f71b100e98-1\\xgboost\\xgboost-ci-windows\\src\\c_api\\c_api.cc:1374: Saving model in the UBJSON format as default.  You can use file extension: `json`, `ubj` or `deprecated` to choose between formats.\n",
      "  warnings.warn(smsg, UserWarning)\n",
      "2024/11/29 19:46:25 WARNING mlflow.models.model: Model logged without a signature and input example. Please set `input_example` parameter when logging the model to auto infer the model signature.\n"
     ]
    }
   ],
   "source": [
    "\n",
    "with mlflow.start_run(run_name='XGBoost2'):\n",
    "    mlflow.log_param(\"data_version\",2)\n",
    "    mlflow.log_param(\"input_rows\",df.shape[0])\n",
    "    mlflow.log_param(\"input_cols\",df.shape[1])\n",
    "    xgb_featimp = XGBClassifier(random_state=2)\n",
    "    pipe = Pipeline(steps=[\n",
    "    ('feature_selection', SelectKBest()),\n",
    "    ('model', xgb_featimp)\n",
    "    ])\n",
    "    params = xgb_featimp.get_params()\n",
    "    mlflow.set_tag(key= \"model\", value=\"XGBClassifier\")\n",
    "    mlflow.log_params(params)\n",
    "    pipe.fit(X_train, y_train)\n",
    "    train_features_name = f'{X_train=}'.split('=')[0]\n",
    "    train_label_name = f'{y_train=}'.split('=')[0]\n",
    "    mlflow.set_tag(key=\"train_features_name\",value= train_features_name)\n",
    "    mlflow.set_tag(key= \"train_label_name\",value=train_label_name)\n",
    "    predicted=pipe.predict(X_val)\n",
    "    precision,recall,fscore,support=score(y_val,predicted,average='macro')\n",
    "    mlflow.log_metric(\"Precision_test\",precision)\n",
    "    mlflow.log_metric(\"Recall_test\",recall)\n",
    "    mlflow.log_metric(\"F1_score_test\",fscore)\n",
    "    mlflow.xgboost.log_model(xg,artifact_path=\"ML_models\")\n"
   ]
  },
  {
   "cell_type": "markdown",
   "metadata": {},
   "source": [
    "### List the importance of each feature"
   ]
  },
  {
   "cell_type": "code",
   "execution_count": 45,
   "metadata": {},
   "outputs": [
    {
     "name": "stdout",
     "output_type": "stream",
     "text": [
      "ApprovalFY = 0.061979383\n",
      "BankState = 0.3998053\n",
      "DisbursementGross = 0.040910725\n",
      "GrAppv = 0.0\n",
      "LowDoc = 0.114158794\n",
      "NoEmp = 0.013915403\n",
      "RevLineCr = 0.037644003\n",
      "State = 0.23328649\n",
      "Term = 0.0658888\n",
      "UrbanRural = 0.032411136\n"
     ]
    }
   ],
   "source": [
    "\n",
    "for name, importance in sorted(zip(X.columns, xgb_featimp.feature_importances_)):\n",
    "    print(name, \"=\", importance)"
   ]
  },
  {
   "cell_type": "markdown",
   "metadata": {},
   "source": [
    "# RandomFoest:"
   ]
  },
  {
   "cell_type": "code",
   "execution_count": 46,
   "metadata": {},
   "outputs": [
    {
     "name": "stderr",
     "output_type": "stream",
     "text": [
      "2024/11/29 19:50:22 WARNING mlflow.models.model: Model logged without a signature and input example. Please set `input_example` parameter when logging the model to auto infer the model signature.\n"
     ]
    }
   ],
   "source": [
    "with mlflow.start_run(run_name='RandomForest'):\n",
    "    mlflow.log_param(\"data_version\",3)\n",
    "    mlflow.log_param(\"input_rows\",df.shape[0])\n",
    "    mlflow.log_param(\"input_cols\",df.shape[1])\n",
    "    rf = RandomForestClassifier(random_state=5)\n",
    "    mlflow.set_tag(key=\"model\", value = \"RandomForest\")\n",
    "    params = rf.get_params()\n",
    "    mlflow.log_params(params)\n",
    "    rf.fit(X_resampled,y_resampled)\n",
    "    train_features_name = f'{X_resampled=}'.split('=')[0]\n",
    "    train_label_name = f'{y_resampled=}'.split('=')[0]\n",
    "    mlflow.set_tag(key=\"train_features_name\",value= train_features_name)\n",
    "    mlflow.set_tag(key= \"train_label_name\",value=train_label_name)\n",
    "    predicted=rf.predict(X_val)\n",
    "    precision,recall,fscore,support=score(y_val,predicted,average='macro')\n",
    "    mlflow.log_metric(\"Precision_test\",precision)\n",
    "    mlflow.log_metric(\"Recall_test\",recall)\n",
    "    mlflow.log_metric(\"F1_score_test\",fscore)\n",
    "    mlflow.sklearn.log_model(rf,artifact_path=\"ML_models\")"
   ]
  },
  {
   "cell_type": "code",
   "execution_count": 47,
   "metadata": {},
   "outputs": [],
   "source": [
    "rf = RandomForestClassifier(random_state=5)\n",
    "rf.fit(X_resampled,y_resampled)\n",
    "predicted=rf.predict(X_val)"
   ]
  },
  {
   "cell_type": "code",
   "execution_count": 48,
   "metadata": {},
   "outputs": [
    {
     "name": "stdout",
     "output_type": "stream",
     "text": [
      "Classification report:\n",
      "               precision    recall  f1-score   support\n",
      "\n",
      "           0       0.97      0.97      0.97    120243\n",
      "           1       0.88      0.87      0.87     27383\n",
      "\n",
      "    accuracy                           0.95    147626\n",
      "   macro avg       0.92      0.92      0.92    147626\n",
      "weighted avg       0.95      0.95      0.95    147626\n",
      "\n",
      "Confusion matrix:\n",
      " [[116900   3343]\n",
      " [  3561  23822]]\n",
      "Share of Non-Fraud in Test Data: 0.8145\n"
     ]
    }
   ],
   "source": [
    "print('Classification report:\\n', classification_report(y_val, predicted))\n",
    "conf_mat = confusion_matrix(y_true=y_val, y_pred=predicted)\n",
    "print('Confusion matrix:\\n', conf_mat)\n",
    "print('Share of Non-Fraud in Test Data:', 1-round(y_val.sum()/len(y_val),4))"
   ]
  },
  {
   "cell_type": "markdown",
   "metadata": {},
   "source": [
    "# MLFLOW Best Model:"
   ]
  },
  {
   "cell_type": "code",
   "execution_count": 49,
   "metadata": {},
   "outputs": [],
   "source": [
    "\n",
    "#Reading Pandas Dataframe from mlflow\n",
    "all_experiments = [exp.experiment_id for exp in mlflow.search_experiments()]\n",
    "df_mlflow = mlflow.search_runs(experiment_ids=all_experiments,filter_string=\"metrics.F1_score_test <1\")\n",
    "run_id = df_mlflow.loc[df_mlflow['metrics.F1_score_test'].idxmax()]['run_id']\n"
   ]
  },
  {
   "cell_type": "code",
   "execution_count": 50,
   "metadata": {},
   "outputs": [
    {
     "data": {
      "text/html": [
       "<div>\n",
       "<style scoped>\n",
       "    .dataframe tbody tr th:only-of-type {\n",
       "        vertical-align: middle;\n",
       "    }\n",
       "\n",
       "    .dataframe tbody tr th {\n",
       "        vertical-align: top;\n",
       "    }\n",
       "\n",
       "    .dataframe thead th {\n",
       "        text-align: right;\n",
       "    }\n",
       "</style>\n",
       "<table border=\"1\" class=\"dataframe\">\n",
       "  <thead>\n",
       "    <tr style=\"text-align: right;\">\n",
       "      <th></th>\n",
       "      <th>run_id</th>\n",
       "      <th>experiment_id</th>\n",
       "      <th>status</th>\n",
       "      <th>artifact_uri</th>\n",
       "      <th>start_time</th>\n",
       "      <th>end_time</th>\n",
       "      <th>metrics.Precision_test</th>\n",
       "      <th>metrics.F1_score_test</th>\n",
       "      <th>metrics.Recall_test</th>\n",
       "      <th>params.criterion</th>\n",
       "      <th>...</th>\n",
       "      <th>params.multi_class</th>\n",
       "      <th>params.fit_intercept</th>\n",
       "      <th>tags.mlflow.source.type</th>\n",
       "      <th>tags.mlflow.source.name</th>\n",
       "      <th>tags.mlflow.runName</th>\n",
       "      <th>tags.train_features_name</th>\n",
       "      <th>tags.mlflow.log-model.history</th>\n",
       "      <th>tags.model</th>\n",
       "      <th>tags.mlflow.user</th>\n",
       "      <th>tags.train_label_name</th>\n",
       "    </tr>\n",
       "  </thead>\n",
       "  <tbody>\n",
       "    <tr>\n",
       "      <th>0</th>\n",
       "      <td>8eb9cdac8f6a4e458f0a9bb7502ef1f4</td>\n",
       "      <td>195371603636612681</td>\n",
       "      <td>FINISHED</td>\n",
       "      <td>file:///c:/Users/msi/Desktop/mlops/mlruns/1953...</td>\n",
       "      <td>2024-11-29 18:46:35.077000+00:00</td>\n",
       "      <td>2024-11-29 18:50:23.490000+00:00</td>\n",
       "      <td>0.923688</td>\n",
       "      <td>0.922375</td>\n",
       "      <td>0.921077</td>\n",
       "      <td>gini</td>\n",
       "      <td>...</td>\n",
       "      <td>None</td>\n",
       "      <td>None</td>\n",
       "      <td>LOCAL</td>\n",
       "      <td>c:\\Users\\msi\\anaconda3\\envs\\mlops\\lib\\site-pac...</td>\n",
       "      <td>RandomForest</td>\n",
       "      <td>X_resampled</td>\n",
       "      <td>[{\"run_id\": \"8eb9cdac8f6a4e458f0a9bb7502ef1f4\"...</td>\n",
       "      <td>RandomForest</td>\n",
       "      <td>msi</td>\n",
       "      <td>y_resampled</td>\n",
       "    </tr>\n",
       "    <tr>\n",
       "      <th>1</th>\n",
       "      <td>12c870f4ff854d6c8c8f993ebc88e385</td>\n",
       "      <td>195371603636612681</td>\n",
       "      <td>FINISHED</td>\n",
       "      <td>file:///c:/Users/msi/Desktop/mlops/mlruns/1953...</td>\n",
       "      <td>2024-11-29 18:46:20.121000+00:00</td>\n",
       "      <td>2024-11-29 18:46:25.692000+00:00</td>\n",
       "      <td>0.926399</td>\n",
       "      <td>0.917307</td>\n",
       "      <td>0.908876</td>\n",
       "      <td>None</td>\n",
       "      <td>...</td>\n",
       "      <td>None</td>\n",
       "      <td>None</td>\n",
       "      <td>LOCAL</td>\n",
       "      <td>c:\\Users\\msi\\anaconda3\\envs\\mlops\\lib\\site-pac...</td>\n",
       "      <td>XGBoost2</td>\n",
       "      <td>X_train</td>\n",
       "      <td>[{\"run_id\": \"12c870f4ff854d6c8c8f993ebc88e385\"...</td>\n",
       "      <td>XGBClassifier</td>\n",
       "      <td>msi</td>\n",
       "      <td>y_train</td>\n",
       "    </tr>\n",
       "    <tr>\n",
       "      <th>2</th>\n",
       "      <td>508f98877c244ee58b2ee59373384b32</td>\n",
       "      <td>195371603636612681</td>\n",
       "      <td>FINISHED</td>\n",
       "      <td>file:///c:/Users/msi/Desktop/mlops/mlruns/1953...</td>\n",
       "      <td>2024-11-29 18:42:45.425000+00:00</td>\n",
       "      <td>2024-11-29 18:42:51.701000+00:00</td>\n",
       "      <td>0.938174</td>\n",
       "      <td>0.929597</td>\n",
       "      <td>0.921592</td>\n",
       "      <td>None</td>\n",
       "      <td>...</td>\n",
       "      <td>None</td>\n",
       "      <td>None</td>\n",
       "      <td>LOCAL</td>\n",
       "      <td>c:\\Users\\msi\\anaconda3\\envs\\mlops\\lib\\site-pac...</td>\n",
       "      <td>XGBoost</td>\n",
       "      <td>X_train</td>\n",
       "      <td>[{\"run_id\": \"508f98877c244ee58b2ee59373384b32\"...</td>\n",
       "      <td>XGBClassifier</td>\n",
       "      <td>msi</td>\n",
       "      <td>y_train</td>\n",
       "    </tr>\n",
       "    <tr>\n",
       "      <th>3</th>\n",
       "      <td>b2e477bb332d4032a160ae87fd702add</td>\n",
       "      <td>195371603636612681</td>\n",
       "      <td>FINISHED</td>\n",
       "      <td>file:///c:/Users/msi/Desktop/mlops/mlruns/1953...</td>\n",
       "      <td>2024-11-29 18:41:16.600000+00:00</td>\n",
       "      <td>2024-11-29 18:41:26.862000+00:00</td>\n",
       "      <td>0.785017</td>\n",
       "      <td>0.707742</td>\n",
       "      <td>0.675689</td>\n",
       "      <td>None</td>\n",
       "      <td>...</td>\n",
       "      <td>deprecated</td>\n",
       "      <td>True</td>\n",
       "      <td>LOCAL</td>\n",
       "      <td>c:\\Users\\msi\\anaconda3\\envs\\mlops\\lib\\site-pac...</td>\n",
       "      <td>LogisticRegression</td>\n",
       "      <td>X_train</td>\n",
       "      <td>[{\"run_id\": \"b2e477bb332d4032a160ae87fd702add\"...</td>\n",
       "      <td>LogisticRegression</td>\n",
       "      <td>msi</td>\n",
       "      <td>y_train</td>\n",
       "    </tr>\n",
       "  </tbody>\n",
       "</table>\n",
       "<p>4 rows × 84 columns</p>\n",
       "</div>"
      ],
      "text/plain": [
       "                             run_id       experiment_id    status  \\\n",
       "0  8eb9cdac8f6a4e458f0a9bb7502ef1f4  195371603636612681  FINISHED   \n",
       "1  12c870f4ff854d6c8c8f993ebc88e385  195371603636612681  FINISHED   \n",
       "2  508f98877c244ee58b2ee59373384b32  195371603636612681  FINISHED   \n",
       "3  b2e477bb332d4032a160ae87fd702add  195371603636612681  FINISHED   \n",
       "\n",
       "                                        artifact_uri  \\\n",
       "0  file:///c:/Users/msi/Desktop/mlops/mlruns/1953...   \n",
       "1  file:///c:/Users/msi/Desktop/mlops/mlruns/1953...   \n",
       "2  file:///c:/Users/msi/Desktop/mlops/mlruns/1953...   \n",
       "3  file:///c:/Users/msi/Desktop/mlops/mlruns/1953...   \n",
       "\n",
       "                        start_time                         end_time  \\\n",
       "0 2024-11-29 18:46:35.077000+00:00 2024-11-29 18:50:23.490000+00:00   \n",
       "1 2024-11-29 18:46:20.121000+00:00 2024-11-29 18:46:25.692000+00:00   \n",
       "2 2024-11-29 18:42:45.425000+00:00 2024-11-29 18:42:51.701000+00:00   \n",
       "3 2024-11-29 18:41:16.600000+00:00 2024-11-29 18:41:26.862000+00:00   \n",
       "\n",
       "   metrics.Precision_test  metrics.F1_score_test  metrics.Recall_test  \\\n",
       "0                0.923688               0.922375             0.921077   \n",
       "1                0.926399               0.917307             0.908876   \n",
       "2                0.938174               0.929597             0.921592   \n",
       "3                0.785017               0.707742             0.675689   \n",
       "\n",
       "  params.criterion  ... params.multi_class params.fit_intercept  \\\n",
       "0             gini  ...               None                 None   \n",
       "1             None  ...               None                 None   \n",
       "2             None  ...               None                 None   \n",
       "3             None  ...         deprecated                 True   \n",
       "\n",
       "  tags.mlflow.source.type                            tags.mlflow.source.name  \\\n",
       "0                   LOCAL  c:\\Users\\msi\\anaconda3\\envs\\mlops\\lib\\site-pac...   \n",
       "1                   LOCAL  c:\\Users\\msi\\anaconda3\\envs\\mlops\\lib\\site-pac...   \n",
       "2                   LOCAL  c:\\Users\\msi\\anaconda3\\envs\\mlops\\lib\\site-pac...   \n",
       "3                   LOCAL  c:\\Users\\msi\\anaconda3\\envs\\mlops\\lib\\site-pac...   \n",
       "\n",
       "  tags.mlflow.runName tags.train_features_name  \\\n",
       "0        RandomForest              X_resampled   \n",
       "1            XGBoost2                  X_train   \n",
       "2             XGBoost                  X_train   \n",
       "3  LogisticRegression                  X_train   \n",
       "\n",
       "                       tags.mlflow.log-model.history          tags.model  \\\n",
       "0  [{\"run_id\": \"8eb9cdac8f6a4e458f0a9bb7502ef1f4\"...        RandomForest   \n",
       "1  [{\"run_id\": \"12c870f4ff854d6c8c8f993ebc88e385\"...       XGBClassifier   \n",
       "2  [{\"run_id\": \"508f98877c244ee58b2ee59373384b32\"...       XGBClassifier   \n",
       "3  [{\"run_id\": \"b2e477bb332d4032a160ae87fd702add\"...  LogisticRegression   \n",
       "\n",
       "  tags.mlflow.user tags.train_label_name  \n",
       "0              msi           y_resampled  \n",
       "1              msi               y_train  \n",
       "2              msi               y_train  \n",
       "3              msi               y_train  \n",
       "\n",
       "[4 rows x 84 columns]"
      ]
     },
     "execution_count": 50,
     "metadata": {},
     "output_type": "execute_result"
    }
   ],
   "source": [
    "df_mlflow\n"
   ]
  },
  {
   "cell_type": "code",
   "execution_count": 51,
   "metadata": {},
   "outputs": [
    {
     "name": "stdout",
     "output_type": "stream",
     "text": [
      "Model ML_models version 5 transitioned to Staging stage.\n"
     ]
    },
    {
     "name": "stderr",
     "output_type": "stream",
     "text": [
      "Registered model 'ML_models' already exists. Creating a new version of this model...\n",
      "Created version '5' of model 'ML_models'.\n",
      "C:\\Users\\msi\\AppData\\Local\\Temp\\ipykernel_1364\\3404456510.py:16: FutureWarning: ``mlflow.tracking.client.MlflowClient.transition_model_version_stage`` is deprecated since 2.9.0. Model registry stages will be removed in a future major release. To learn more about the deprecation of model registry stages, see our migration guide here: https://mlflow.org/docs/latest/model-registry.html#migrating-from-stages\n",
      "  client.transition_model_version_stage(\n"
     ]
    }
   ],
   "source": [
    "from mlflow.client import *\n",
    "client = MlflowClient()\n",
    "model_name='ML_models'\n",
    "# Create the model URI\n",
    "model_uri = f\"runs:/{run_id}/artifacts/{model_name}\"\n",
    "\n",
    "# Register the model\n",
    "reg = mlflow.register_model(model_uri, model_name)\n",
    "\n",
    "# Get the model version\n",
    "model_version = reg.version  # Get the registered model version\n",
    "\n",
    "# Transition the model version to Staging\n",
    "new_stage = \"Staging\"\n",
    "\n",
    "client.transition_model_version_stage(\n",
    "    name=model_name,\n",
    "    version=model_version,\n",
    "    stage=new_stage,\n",
    "    archive_existing_versions=True\n",
    ")\n",
    "\n",
    "print(f\"Model {model_name} version {model_version} transitioned to {new_stage} stage.\")"
   ]
  },
  {
   "cell_type": "code",
   "execution_count": 52,
   "metadata": {},
   "outputs": [
    {
     "name": "stdout",
     "output_type": "stream",
     "text": [
      "mlflow.pyfunc.loaded_model:\n",
      "  artifact_path: ML_models\n",
      "  flavor: mlflow.xgboost\n",
      "  run_id: 508f98877c244ee58b2ee59373384b32\n",
      "\n"
     ]
    },
    {
     "data": {
      "text/plain": [
       "array([0, 1, 0, ..., 0, 0, 0])"
      ]
     },
     "execution_count": 52,
     "metadata": {},
     "output_type": "execute_result"
    }
   ],
   "source": [
    "\n",
    "#let's call the model from the model registry ( in production stage)\n",
    "import mlflow.pyfunc\n",
    "\n",
    "logged_model = f'runs:/{run_id}/ML_models'\n",
    "\n",
    "# Load model as a PyFuncModel.\n",
    "loaded_model = mlflow.pyfunc.load_model(logged_model)\n",
    "print(loaded_model)\n",
    "\n",
    "# Predict on a Pandas DataFrame.\n",
    "\n",
    "loaded_model.predict(X_val)\n"
   ]
  },
  {
   "cell_type": "code",
   "execution_count": null,
   "metadata": {},
   "outputs": [],
   "source": []
  }
 ],
 "metadata": {
  "kernelspec": {
   "display_name": "mlops",
   "language": "python",
   "name": "python3"
  },
  "language_info": {
   "codemirror_mode": {
    "name": "ipython",
    "version": 3
   },
   "file_extension": ".py",
   "mimetype": "text/x-python",
   "name": "python",
   "nbconvert_exporter": "python",
   "pygments_lexer": "ipython3",
   "version": "3.10.15"
  }
 },
 "nbformat": 4,
 "nbformat_minor": 2
}
